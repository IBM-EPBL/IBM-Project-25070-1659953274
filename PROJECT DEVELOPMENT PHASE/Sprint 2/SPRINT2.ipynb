{
  "nbformat": 4,
  "nbformat_minor": 0,
  "metadata": {
    "colab": {
      "provenance": [],
      "collapsed_sections": []
    },
    "kernelspec": {
      "name": "python3",
      "display_name": "Python 3"
    },
    "language_info": {
      "name": "python"
    }
  },
  "cells": [
    {
      "cell_type": "markdown",
      "source": [
        "# IMPORTING REQUIRED LIBRARIES"
      ],
      "metadata": {
        "id": "x4zC-mqp5StN"
      }
    },
    {
      "cell_type": "code",
      "execution_count": 197,
      "metadata": {
        "id": "jJXmEsOgndC9"
      },
      "outputs": [],
      "source": [
        "import numpy as np \n",
        "import pandas as pd \n",
        "import matplotlib.pyplot as plt \n",
        "import seaborn as sns"
      ]
    },
    {
      "cell_type": "markdown",
      "source": [
        "# LOADING DATASET"
      ],
      "metadata": {
        "id": "7e9Zm-zI5nQd"
      }
    },
    {
      "cell_type": "code",
      "source": [
        "df=pd.read_csv(\"/content/Crude Oil Prices Daily.csv\")"
      ],
      "metadata": {
        "id": "5--u7J00nt79"
      },
      "execution_count": 198,
      "outputs": []
    },
    {
      "cell_type": "code",
      "source": [
        "df"
      ],
      "metadata": {
        "colab": {
          "base_uri": "https://localhost:8080/",
          "height": 424
        },
        "id": "mMHoLdCCn699",
        "outputId": "449b1b31-81e3-45b9-8dfb-23459508b7c8"
      },
      "execution_count": 199,
      "outputs": [
        {
          "output_type": "execute_result",
          "data": {
            "text/plain": [
              "          Date  Closing Value\n",
              "0     1/2/1986          25.56\n",
              "1     1/3/1986          26.00\n",
              "2     1/6/1986          26.53\n",
              "3     1/7/1986          25.85\n",
              "4     1/8/1986          25.87\n",
              "...        ...            ...\n",
              "8218  7/3/2018          74.19\n",
              "8219  7/4/2018            NaN\n",
              "8220  7/5/2018          73.05\n",
              "8221  7/6/2018          73.78\n",
              "8222  7/9/2018          73.93\n",
              "\n",
              "[8223 rows x 2 columns]"
            ],
            "text/html": [
              "\n",
              "  <div id=\"df-9adc7dae-b840-4a87-8d86-3f8a3e8a864a\">\n",
              "    <div class=\"colab-df-container\">\n",
              "      <div>\n",
              "<style scoped>\n",
              "    .dataframe tbody tr th:only-of-type {\n",
              "        vertical-align: middle;\n",
              "    }\n",
              "\n",
              "    .dataframe tbody tr th {\n",
              "        vertical-align: top;\n",
              "    }\n",
              "\n",
              "    .dataframe thead th {\n",
              "        text-align: right;\n",
              "    }\n",
              "</style>\n",
              "<table border=\"1\" class=\"dataframe\">\n",
              "  <thead>\n",
              "    <tr style=\"text-align: right;\">\n",
              "      <th></th>\n",
              "      <th>Date</th>\n",
              "      <th>Closing Value</th>\n",
              "    </tr>\n",
              "  </thead>\n",
              "  <tbody>\n",
              "    <tr>\n",
              "      <th>0</th>\n",
              "      <td>1/2/1986</td>\n",
              "      <td>25.56</td>\n",
              "    </tr>\n",
              "    <tr>\n",
              "      <th>1</th>\n",
              "      <td>1/3/1986</td>\n",
              "      <td>26.00</td>\n",
              "    </tr>\n",
              "    <tr>\n",
              "      <th>2</th>\n",
              "      <td>1/6/1986</td>\n",
              "      <td>26.53</td>\n",
              "    </tr>\n",
              "    <tr>\n",
              "      <th>3</th>\n",
              "      <td>1/7/1986</td>\n",
              "      <td>25.85</td>\n",
              "    </tr>\n",
              "    <tr>\n",
              "      <th>4</th>\n",
              "      <td>1/8/1986</td>\n",
              "      <td>25.87</td>\n",
              "    </tr>\n",
              "    <tr>\n",
              "      <th>...</th>\n",
              "      <td>...</td>\n",
              "      <td>...</td>\n",
              "    </tr>\n",
              "    <tr>\n",
              "      <th>8218</th>\n",
              "      <td>7/3/2018</td>\n",
              "      <td>74.19</td>\n",
              "    </tr>\n",
              "    <tr>\n",
              "      <th>8219</th>\n",
              "      <td>7/4/2018</td>\n",
              "      <td>NaN</td>\n",
              "    </tr>\n",
              "    <tr>\n",
              "      <th>8220</th>\n",
              "      <td>7/5/2018</td>\n",
              "      <td>73.05</td>\n",
              "    </tr>\n",
              "    <tr>\n",
              "      <th>8221</th>\n",
              "      <td>7/6/2018</td>\n",
              "      <td>73.78</td>\n",
              "    </tr>\n",
              "    <tr>\n",
              "      <th>8222</th>\n",
              "      <td>7/9/2018</td>\n",
              "      <td>73.93</td>\n",
              "    </tr>\n",
              "  </tbody>\n",
              "</table>\n",
              "<p>8223 rows × 2 columns</p>\n",
              "</div>\n",
              "      <button class=\"colab-df-convert\" onclick=\"convertToInteractive('df-9adc7dae-b840-4a87-8d86-3f8a3e8a864a')\"\n",
              "              title=\"Convert this dataframe to an interactive table.\"\n",
              "              style=\"display:none;\">\n",
              "        \n",
              "  <svg xmlns=\"http://www.w3.org/2000/svg\" height=\"24px\"viewBox=\"0 0 24 24\"\n",
              "       width=\"24px\">\n",
              "    <path d=\"M0 0h24v24H0V0z\" fill=\"none\"/>\n",
              "    <path d=\"M18.56 5.44l.94 2.06.94-2.06 2.06-.94-2.06-.94-.94-2.06-.94 2.06-2.06.94zm-11 1L8.5 8.5l.94-2.06 2.06-.94-2.06-.94L8.5 2.5l-.94 2.06-2.06.94zm10 10l.94 2.06.94-2.06 2.06-.94-2.06-.94-.94-2.06-.94 2.06-2.06.94z\"/><path d=\"M17.41 7.96l-1.37-1.37c-.4-.4-.92-.59-1.43-.59-.52 0-1.04.2-1.43.59L10.3 9.45l-7.72 7.72c-.78.78-.78 2.05 0 2.83L4 21.41c.39.39.9.59 1.41.59.51 0 1.02-.2 1.41-.59l7.78-7.78 2.81-2.81c.8-.78.8-2.07 0-2.86zM5.41 20L4 18.59l7.72-7.72 1.47 1.35L5.41 20z\"/>\n",
              "  </svg>\n",
              "      </button>\n",
              "      \n",
              "  <style>\n",
              "    .colab-df-container {\n",
              "      display:flex;\n",
              "      flex-wrap:wrap;\n",
              "      gap: 12px;\n",
              "    }\n",
              "\n",
              "    .colab-df-convert {\n",
              "      background-color: #E8F0FE;\n",
              "      border: none;\n",
              "      border-radius: 50%;\n",
              "      cursor: pointer;\n",
              "      display: none;\n",
              "      fill: #1967D2;\n",
              "      height: 32px;\n",
              "      padding: 0 0 0 0;\n",
              "      width: 32px;\n",
              "    }\n",
              "\n",
              "    .colab-df-convert:hover {\n",
              "      background-color: #E2EBFA;\n",
              "      box-shadow: 0px 1px 2px rgba(60, 64, 67, 0.3), 0px 1px 3px 1px rgba(60, 64, 67, 0.15);\n",
              "      fill: #174EA6;\n",
              "    }\n",
              "\n",
              "    [theme=dark] .colab-df-convert {\n",
              "      background-color: #3B4455;\n",
              "      fill: #D2E3FC;\n",
              "    }\n",
              "\n",
              "    [theme=dark] .colab-df-convert:hover {\n",
              "      background-color: #434B5C;\n",
              "      box-shadow: 0px 1px 3px 1px rgba(0, 0, 0, 0.15);\n",
              "      filter: drop-shadow(0px 1px 2px rgba(0, 0, 0, 0.3));\n",
              "      fill: #FFFFFF;\n",
              "    }\n",
              "  </style>\n",
              "\n",
              "      <script>\n",
              "        const buttonEl =\n",
              "          document.querySelector('#df-9adc7dae-b840-4a87-8d86-3f8a3e8a864a button.colab-df-convert');\n",
              "        buttonEl.style.display =\n",
              "          google.colab.kernel.accessAllowed ? 'block' : 'none';\n",
              "\n",
              "        async function convertToInteractive(key) {\n",
              "          const element = document.querySelector('#df-9adc7dae-b840-4a87-8d86-3f8a3e8a864a');\n",
              "          const dataTable =\n",
              "            await google.colab.kernel.invokeFunction('convertToInteractive',\n",
              "                                                     [key], {});\n",
              "          if (!dataTable) return;\n",
              "\n",
              "          const docLinkHtml = 'Like what you see? Visit the ' +\n",
              "            '<a target=\"_blank\" href=https://colab.research.google.com/notebooks/data_table.ipynb>data table notebook</a>'\n",
              "            + ' to learn more about interactive tables.';\n",
              "          element.innerHTML = '';\n",
              "          dataTable['output_type'] = 'display_data';\n",
              "          await google.colab.output.renderOutput(dataTable, element);\n",
              "          const docLink = document.createElement('div');\n",
              "          docLink.innerHTML = docLinkHtml;\n",
              "          element.appendChild(docLink);\n",
              "        }\n",
              "      </script>\n",
              "    </div>\n",
              "  </div>\n",
              "  "
            ]
          },
          "metadata": {},
          "execution_count": 199
        }
      ]
    },
    {
      "cell_type": "code",
      "source": [
        "df.head()\n"
      ],
      "metadata": {
        "colab": {
          "base_uri": "https://localhost:8080/",
          "height": 206
        },
        "id": "tVpetp7voAff",
        "outputId": "a61a115e-539b-49e8-eb44-d0ceefdc3691"
      },
      "execution_count": 200,
      "outputs": [
        {
          "output_type": "execute_result",
          "data": {
            "text/plain": [
              "       Date  Closing Value\n",
              "0  1/2/1986          25.56\n",
              "1  1/3/1986          26.00\n",
              "2  1/6/1986          26.53\n",
              "3  1/7/1986          25.85\n",
              "4  1/8/1986          25.87"
            ],
            "text/html": [
              "\n",
              "  <div id=\"df-2f013a52-8184-4e97-aec9-4f66b0cf5bba\">\n",
              "    <div class=\"colab-df-container\">\n",
              "      <div>\n",
              "<style scoped>\n",
              "    .dataframe tbody tr th:only-of-type {\n",
              "        vertical-align: middle;\n",
              "    }\n",
              "\n",
              "    .dataframe tbody tr th {\n",
              "        vertical-align: top;\n",
              "    }\n",
              "\n",
              "    .dataframe thead th {\n",
              "        text-align: right;\n",
              "    }\n",
              "</style>\n",
              "<table border=\"1\" class=\"dataframe\">\n",
              "  <thead>\n",
              "    <tr style=\"text-align: right;\">\n",
              "      <th></th>\n",
              "      <th>Date</th>\n",
              "      <th>Closing Value</th>\n",
              "    </tr>\n",
              "  </thead>\n",
              "  <tbody>\n",
              "    <tr>\n",
              "      <th>0</th>\n",
              "      <td>1/2/1986</td>\n",
              "      <td>25.56</td>\n",
              "    </tr>\n",
              "    <tr>\n",
              "      <th>1</th>\n",
              "      <td>1/3/1986</td>\n",
              "      <td>26.00</td>\n",
              "    </tr>\n",
              "    <tr>\n",
              "      <th>2</th>\n",
              "      <td>1/6/1986</td>\n",
              "      <td>26.53</td>\n",
              "    </tr>\n",
              "    <tr>\n",
              "      <th>3</th>\n",
              "      <td>1/7/1986</td>\n",
              "      <td>25.85</td>\n",
              "    </tr>\n",
              "    <tr>\n",
              "      <th>4</th>\n",
              "      <td>1/8/1986</td>\n",
              "      <td>25.87</td>\n",
              "    </tr>\n",
              "  </tbody>\n",
              "</table>\n",
              "</div>\n",
              "      <button class=\"colab-df-convert\" onclick=\"convertToInteractive('df-2f013a52-8184-4e97-aec9-4f66b0cf5bba')\"\n",
              "              title=\"Convert this dataframe to an interactive table.\"\n",
              "              style=\"display:none;\">\n",
              "        \n",
              "  <svg xmlns=\"http://www.w3.org/2000/svg\" height=\"24px\"viewBox=\"0 0 24 24\"\n",
              "       width=\"24px\">\n",
              "    <path d=\"M0 0h24v24H0V0z\" fill=\"none\"/>\n",
              "    <path d=\"M18.56 5.44l.94 2.06.94-2.06 2.06-.94-2.06-.94-.94-2.06-.94 2.06-2.06.94zm-11 1L8.5 8.5l.94-2.06 2.06-.94-2.06-.94L8.5 2.5l-.94 2.06-2.06.94zm10 10l.94 2.06.94-2.06 2.06-.94-2.06-.94-.94-2.06-.94 2.06-2.06.94z\"/><path d=\"M17.41 7.96l-1.37-1.37c-.4-.4-.92-.59-1.43-.59-.52 0-1.04.2-1.43.59L10.3 9.45l-7.72 7.72c-.78.78-.78 2.05 0 2.83L4 21.41c.39.39.9.59 1.41.59.51 0 1.02-.2 1.41-.59l7.78-7.78 2.81-2.81c.8-.78.8-2.07 0-2.86zM5.41 20L4 18.59l7.72-7.72 1.47 1.35L5.41 20z\"/>\n",
              "  </svg>\n",
              "      </button>\n",
              "      \n",
              "  <style>\n",
              "    .colab-df-container {\n",
              "      display:flex;\n",
              "      flex-wrap:wrap;\n",
              "      gap: 12px;\n",
              "    }\n",
              "\n",
              "    .colab-df-convert {\n",
              "      background-color: #E8F0FE;\n",
              "      border: none;\n",
              "      border-radius: 50%;\n",
              "      cursor: pointer;\n",
              "      display: none;\n",
              "      fill: #1967D2;\n",
              "      height: 32px;\n",
              "      padding: 0 0 0 0;\n",
              "      width: 32px;\n",
              "    }\n",
              "\n",
              "    .colab-df-convert:hover {\n",
              "      background-color: #E2EBFA;\n",
              "      box-shadow: 0px 1px 2px rgba(60, 64, 67, 0.3), 0px 1px 3px 1px rgba(60, 64, 67, 0.15);\n",
              "      fill: #174EA6;\n",
              "    }\n",
              "\n",
              "    [theme=dark] .colab-df-convert {\n",
              "      background-color: #3B4455;\n",
              "      fill: #D2E3FC;\n",
              "    }\n",
              "\n",
              "    [theme=dark] .colab-df-convert:hover {\n",
              "      background-color: #434B5C;\n",
              "      box-shadow: 0px 1px 3px 1px rgba(0, 0, 0, 0.15);\n",
              "      filter: drop-shadow(0px 1px 2px rgba(0, 0, 0, 0.3));\n",
              "      fill: #FFFFFF;\n",
              "    }\n",
              "  </style>\n",
              "\n",
              "      <script>\n",
              "        const buttonEl =\n",
              "          document.querySelector('#df-2f013a52-8184-4e97-aec9-4f66b0cf5bba button.colab-df-convert');\n",
              "        buttonEl.style.display =\n",
              "          google.colab.kernel.accessAllowed ? 'block' : 'none';\n",
              "\n",
              "        async function convertToInteractive(key) {\n",
              "          const element = document.querySelector('#df-2f013a52-8184-4e97-aec9-4f66b0cf5bba');\n",
              "          const dataTable =\n",
              "            await google.colab.kernel.invokeFunction('convertToInteractive',\n",
              "                                                     [key], {});\n",
              "          if (!dataTable) return;\n",
              "\n",
              "          const docLinkHtml = 'Like what you see? Visit the ' +\n",
              "            '<a target=\"_blank\" href=https://colab.research.google.com/notebooks/data_table.ipynb>data table notebook</a>'\n",
              "            + ' to learn more about interactive tables.';\n",
              "          element.innerHTML = '';\n",
              "          dataTable['output_type'] = 'display_data';\n",
              "          await google.colab.output.renderOutput(dataTable, element);\n",
              "          const docLink = document.createElement('div');\n",
              "          docLink.innerHTML = docLinkHtml;\n",
              "          element.appendChild(docLink);\n",
              "        }\n",
              "      </script>\n",
              "    </div>\n",
              "  </div>\n",
              "  "
            ]
          },
          "metadata": {},
          "execution_count": 200
        }
      ]
    },
    {
      "cell_type": "code",
      "source": [
        "df.shape"
      ],
      "metadata": {
        "colab": {
          "base_uri": "https://localhost:8080/"
        },
        "id": "mUTLwuKCoHwG",
        "outputId": "910cef77-25ce-40d3-89dc-cc561dcfde92"
      },
      "execution_count": 201,
      "outputs": [
        {
          "output_type": "execute_result",
          "data": {
            "text/plain": [
              "(8223, 2)"
            ]
          },
          "metadata": {},
          "execution_count": 201
        }
      ]
    },
    {
      "cell_type": "code",
      "source": [
        "df.describe()"
      ],
      "metadata": {
        "colab": {
          "base_uri": "https://localhost:8080/",
          "height": 300
        },
        "id": "gBDVjG97oI2X",
        "outputId": "835efa25-c929-43b4-c539-685f3e531250"
      },
      "execution_count": 202,
      "outputs": [
        {
          "output_type": "execute_result",
          "data": {
            "text/plain": [
              "       Closing Value\n",
              "count    8216.000000\n",
              "mean       43.492139\n",
              "std        29.616804\n",
              "min        10.250000\n",
              "25%        19.577500\n",
              "50%        29.610000\n",
              "75%        63.402500\n",
              "max       145.310000"
            ],
            "text/html": [
              "\n",
              "  <div id=\"df-1e865a96-59e7-4e18-a99c-65ba1014d2cc\">\n",
              "    <div class=\"colab-df-container\">\n",
              "      <div>\n",
              "<style scoped>\n",
              "    .dataframe tbody tr th:only-of-type {\n",
              "        vertical-align: middle;\n",
              "    }\n",
              "\n",
              "    .dataframe tbody tr th {\n",
              "        vertical-align: top;\n",
              "    }\n",
              "\n",
              "    .dataframe thead th {\n",
              "        text-align: right;\n",
              "    }\n",
              "</style>\n",
              "<table border=\"1\" class=\"dataframe\">\n",
              "  <thead>\n",
              "    <tr style=\"text-align: right;\">\n",
              "      <th></th>\n",
              "      <th>Closing Value</th>\n",
              "    </tr>\n",
              "  </thead>\n",
              "  <tbody>\n",
              "    <tr>\n",
              "      <th>count</th>\n",
              "      <td>8216.000000</td>\n",
              "    </tr>\n",
              "    <tr>\n",
              "      <th>mean</th>\n",
              "      <td>43.492139</td>\n",
              "    </tr>\n",
              "    <tr>\n",
              "      <th>std</th>\n",
              "      <td>29.616804</td>\n",
              "    </tr>\n",
              "    <tr>\n",
              "      <th>min</th>\n",
              "      <td>10.250000</td>\n",
              "    </tr>\n",
              "    <tr>\n",
              "      <th>25%</th>\n",
              "      <td>19.577500</td>\n",
              "    </tr>\n",
              "    <tr>\n",
              "      <th>50%</th>\n",
              "      <td>29.610000</td>\n",
              "    </tr>\n",
              "    <tr>\n",
              "      <th>75%</th>\n",
              "      <td>63.402500</td>\n",
              "    </tr>\n",
              "    <tr>\n",
              "      <th>max</th>\n",
              "      <td>145.310000</td>\n",
              "    </tr>\n",
              "  </tbody>\n",
              "</table>\n",
              "</div>\n",
              "      <button class=\"colab-df-convert\" onclick=\"convertToInteractive('df-1e865a96-59e7-4e18-a99c-65ba1014d2cc')\"\n",
              "              title=\"Convert this dataframe to an interactive table.\"\n",
              "              style=\"display:none;\">\n",
              "        \n",
              "  <svg xmlns=\"http://www.w3.org/2000/svg\" height=\"24px\"viewBox=\"0 0 24 24\"\n",
              "       width=\"24px\">\n",
              "    <path d=\"M0 0h24v24H0V0z\" fill=\"none\"/>\n",
              "    <path d=\"M18.56 5.44l.94 2.06.94-2.06 2.06-.94-2.06-.94-.94-2.06-.94 2.06-2.06.94zm-11 1L8.5 8.5l.94-2.06 2.06-.94-2.06-.94L8.5 2.5l-.94 2.06-2.06.94zm10 10l.94 2.06.94-2.06 2.06-.94-2.06-.94-.94-2.06-.94 2.06-2.06.94z\"/><path d=\"M17.41 7.96l-1.37-1.37c-.4-.4-.92-.59-1.43-.59-.52 0-1.04.2-1.43.59L10.3 9.45l-7.72 7.72c-.78.78-.78 2.05 0 2.83L4 21.41c.39.39.9.59 1.41.59.51 0 1.02-.2 1.41-.59l7.78-7.78 2.81-2.81c.8-.78.8-2.07 0-2.86zM5.41 20L4 18.59l7.72-7.72 1.47 1.35L5.41 20z\"/>\n",
              "  </svg>\n",
              "      </button>\n",
              "      \n",
              "  <style>\n",
              "    .colab-df-container {\n",
              "      display:flex;\n",
              "      flex-wrap:wrap;\n",
              "      gap: 12px;\n",
              "    }\n",
              "\n",
              "    .colab-df-convert {\n",
              "      background-color: #E8F0FE;\n",
              "      border: none;\n",
              "      border-radius: 50%;\n",
              "      cursor: pointer;\n",
              "      display: none;\n",
              "      fill: #1967D2;\n",
              "      height: 32px;\n",
              "      padding: 0 0 0 0;\n",
              "      width: 32px;\n",
              "    }\n",
              "\n",
              "    .colab-df-convert:hover {\n",
              "      background-color: #E2EBFA;\n",
              "      box-shadow: 0px 1px 2px rgba(60, 64, 67, 0.3), 0px 1px 3px 1px rgba(60, 64, 67, 0.15);\n",
              "      fill: #174EA6;\n",
              "    }\n",
              "\n",
              "    [theme=dark] .colab-df-convert {\n",
              "      background-color: #3B4455;\n",
              "      fill: #D2E3FC;\n",
              "    }\n",
              "\n",
              "    [theme=dark] .colab-df-convert:hover {\n",
              "      background-color: #434B5C;\n",
              "      box-shadow: 0px 1px 3px 1px rgba(0, 0, 0, 0.15);\n",
              "      filter: drop-shadow(0px 1px 2px rgba(0, 0, 0, 0.3));\n",
              "      fill: #FFFFFF;\n",
              "    }\n",
              "  </style>\n",
              "\n",
              "      <script>\n",
              "        const buttonEl =\n",
              "          document.querySelector('#df-1e865a96-59e7-4e18-a99c-65ba1014d2cc button.colab-df-convert');\n",
              "        buttonEl.style.display =\n",
              "          google.colab.kernel.accessAllowed ? 'block' : 'none';\n",
              "\n",
              "        async function convertToInteractive(key) {\n",
              "          const element = document.querySelector('#df-1e865a96-59e7-4e18-a99c-65ba1014d2cc');\n",
              "          const dataTable =\n",
              "            await google.colab.kernel.invokeFunction('convertToInteractive',\n",
              "                                                     [key], {});\n",
              "          if (!dataTable) return;\n",
              "\n",
              "          const docLinkHtml = 'Like what you see? Visit the ' +\n",
              "            '<a target=\"_blank\" href=https://colab.research.google.com/notebooks/data_table.ipynb>data table notebook</a>'\n",
              "            + ' to learn more about interactive tables.';\n",
              "          element.innerHTML = '';\n",
              "          dataTable['output_type'] = 'display_data';\n",
              "          await google.colab.output.renderOutput(dataTable, element);\n",
              "          const docLink = document.createElement('div');\n",
              "          docLink.innerHTML = docLinkHtml;\n",
              "          element.appendChild(docLink);\n",
              "        }\n",
              "      </script>\n",
              "    </div>\n",
              "  </div>\n",
              "  "
            ]
          },
          "metadata": {},
          "execution_count": 202
        }
      ]
    },
    {
      "cell_type": "code",
      "source": [
        "df.info()"
      ],
      "metadata": {
        "colab": {
          "base_uri": "https://localhost:8080/"
        },
        "id": "aqfcSYlCoNA2",
        "outputId": "1f258094-512f-4cd5-c49f-938375d1e44f"
      },
      "execution_count": 203,
      "outputs": [
        {
          "output_type": "stream",
          "name": "stdout",
          "text": [
            "<class 'pandas.core.frame.DataFrame'>\n",
            "RangeIndex: 8223 entries, 0 to 8222\n",
            "Data columns (total 2 columns):\n",
            " #   Column         Non-Null Count  Dtype  \n",
            "---  ------         --------------  -----  \n",
            " 0   Date           8223 non-null   object \n",
            " 1   Closing Value  8216 non-null   float64\n",
            "dtypes: float64(1), object(1)\n",
            "memory usage: 128.6+ KB\n"
          ]
        }
      ]
    },
    {
      "cell_type": "code",
      "source": [
        "df.isnull().any()"
      ],
      "metadata": {
        "colab": {
          "base_uri": "https://localhost:8080/"
        },
        "id": "Oo70XKT9-Aep",
        "outputId": "e8a734a3-4a33-45f1-9f52-b8ae18112d33"
      },
      "execution_count": 204,
      "outputs": [
        {
          "output_type": "execute_result",
          "data": {
            "text/plain": [
              "Date             False\n",
              "Closing Value     True\n",
              "dtype: bool"
            ]
          },
          "metadata": {},
          "execution_count": 204
        }
      ]
    },
    {
      "cell_type": "code",
      "source": [
        "df.dropna(axis=0,inplace=True)"
      ],
      "metadata": {
        "id": "_Xnz-IpV-EnI"
      },
      "execution_count": 205,
      "outputs": []
    },
    {
      "cell_type": "markdown",
      "source": [
        "# CHECKING FOR NULL VALUES"
      ],
      "metadata": {
        "id": "uNEi9onO6dgC"
      }
    },
    {
      "cell_type": "code",
      "source": [
        "df.isnull().sum()"
      ],
      "metadata": {
        "colab": {
          "base_uri": "https://localhost:8080/"
        },
        "id": "iMzGLCjcoVNB",
        "outputId": "02130c74-b792-4018-b2bd-df417b0a4e96"
      },
      "execution_count": 206,
      "outputs": [
        {
          "output_type": "execute_result",
          "data": {
            "text/plain": [
              "Date             0\n",
              "Closing Value    0\n",
              "dtype: int64"
            ]
          },
          "metadata": {},
          "execution_count": 206
        }
      ]
    },
    {
      "cell_type": "markdown",
      "source": [
        "# CHECKING FOR DUPLICATED ROWS"
      ],
      "metadata": {
        "id": "kwimY8706kKY"
      }
    },
    {
      "cell_type": "code",
      "source": [
        "df.duplicated().sum()"
      ],
      "metadata": {
        "colab": {
          "base_uri": "https://localhost:8080/"
        },
        "id": "hN3EUVNHoZWe",
        "outputId": "420dc3f7-a8d9-4e2b-9f0d-8d6506fe1bdc"
      },
      "execution_count": 207,
      "outputs": [
        {
          "output_type": "execute_result",
          "data": {
            "text/plain": [
              "0"
            ]
          },
          "metadata": {},
          "execution_count": 207
        }
      ]
    },
    {
      "cell_type": "code",
      "source": [
        "df[df.duplicated()]"
      ],
      "metadata": {
        "colab": {
          "base_uri": "https://localhost:8080/",
          "height": 49
        },
        "id": "-G6vkTUKoc12",
        "outputId": "4f6b2bdb-840f-4cbb-f411-5d240e8a2706"
      },
      "execution_count": 208,
      "outputs": [
        {
          "output_type": "execute_result",
          "data": {
            "text/plain": [
              "Empty DataFrame\n",
              "Columns: [Date, Closing Value]\n",
              "Index: []"
            ],
            "text/html": [
              "\n",
              "  <div id=\"df-7cbb8bbd-5428-4925-bd73-7dd3d36b3c87\">\n",
              "    <div class=\"colab-df-container\">\n",
              "      <div>\n",
              "<style scoped>\n",
              "    .dataframe tbody tr th:only-of-type {\n",
              "        vertical-align: middle;\n",
              "    }\n",
              "\n",
              "    .dataframe tbody tr th {\n",
              "        vertical-align: top;\n",
              "    }\n",
              "\n",
              "    .dataframe thead th {\n",
              "        text-align: right;\n",
              "    }\n",
              "</style>\n",
              "<table border=\"1\" class=\"dataframe\">\n",
              "  <thead>\n",
              "    <tr style=\"text-align: right;\">\n",
              "      <th></th>\n",
              "      <th>Date</th>\n",
              "      <th>Closing Value</th>\n",
              "    </tr>\n",
              "  </thead>\n",
              "  <tbody>\n",
              "  </tbody>\n",
              "</table>\n",
              "</div>\n",
              "      <button class=\"colab-df-convert\" onclick=\"convertToInteractive('df-7cbb8bbd-5428-4925-bd73-7dd3d36b3c87')\"\n",
              "              title=\"Convert this dataframe to an interactive table.\"\n",
              "              style=\"display:none;\">\n",
              "        \n",
              "  <svg xmlns=\"http://www.w3.org/2000/svg\" height=\"24px\"viewBox=\"0 0 24 24\"\n",
              "       width=\"24px\">\n",
              "    <path d=\"M0 0h24v24H0V0z\" fill=\"none\"/>\n",
              "    <path d=\"M18.56 5.44l.94 2.06.94-2.06 2.06-.94-2.06-.94-.94-2.06-.94 2.06-2.06.94zm-11 1L8.5 8.5l.94-2.06 2.06-.94-2.06-.94L8.5 2.5l-.94 2.06-2.06.94zm10 10l.94 2.06.94-2.06 2.06-.94-2.06-.94-.94-2.06-.94 2.06-2.06.94z\"/><path d=\"M17.41 7.96l-1.37-1.37c-.4-.4-.92-.59-1.43-.59-.52 0-1.04.2-1.43.59L10.3 9.45l-7.72 7.72c-.78.78-.78 2.05 0 2.83L4 21.41c.39.39.9.59 1.41.59.51 0 1.02-.2 1.41-.59l7.78-7.78 2.81-2.81c.8-.78.8-2.07 0-2.86zM5.41 20L4 18.59l7.72-7.72 1.47 1.35L5.41 20z\"/>\n",
              "  </svg>\n",
              "      </button>\n",
              "      \n",
              "  <style>\n",
              "    .colab-df-container {\n",
              "      display:flex;\n",
              "      flex-wrap:wrap;\n",
              "      gap: 12px;\n",
              "    }\n",
              "\n",
              "    .colab-df-convert {\n",
              "      background-color: #E8F0FE;\n",
              "      border: none;\n",
              "      border-radius: 50%;\n",
              "      cursor: pointer;\n",
              "      display: none;\n",
              "      fill: #1967D2;\n",
              "      height: 32px;\n",
              "      padding: 0 0 0 0;\n",
              "      width: 32px;\n",
              "    }\n",
              "\n",
              "    .colab-df-convert:hover {\n",
              "      background-color: #E2EBFA;\n",
              "      box-shadow: 0px 1px 2px rgba(60, 64, 67, 0.3), 0px 1px 3px 1px rgba(60, 64, 67, 0.15);\n",
              "      fill: #174EA6;\n",
              "    }\n",
              "\n",
              "    [theme=dark] .colab-df-convert {\n",
              "      background-color: #3B4455;\n",
              "      fill: #D2E3FC;\n",
              "    }\n",
              "\n",
              "    [theme=dark] .colab-df-convert:hover {\n",
              "      background-color: #434B5C;\n",
              "      box-shadow: 0px 1px 3px 1px rgba(0, 0, 0, 0.15);\n",
              "      filter: drop-shadow(0px 1px 2px rgba(0, 0, 0, 0.3));\n",
              "      fill: #FFFFFF;\n",
              "    }\n",
              "  </style>\n",
              "\n",
              "      <script>\n",
              "        const buttonEl =\n",
              "          document.querySelector('#df-7cbb8bbd-5428-4925-bd73-7dd3d36b3c87 button.colab-df-convert');\n",
              "        buttonEl.style.display =\n",
              "          google.colab.kernel.accessAllowed ? 'block' : 'none';\n",
              "\n",
              "        async function convertToInteractive(key) {\n",
              "          const element = document.querySelector('#df-7cbb8bbd-5428-4925-bd73-7dd3d36b3c87');\n",
              "          const dataTable =\n",
              "            await google.colab.kernel.invokeFunction('convertToInteractive',\n",
              "                                                     [key], {});\n",
              "          if (!dataTable) return;\n",
              "\n",
              "          const docLinkHtml = 'Like what you see? Visit the ' +\n",
              "            '<a target=\"_blank\" href=https://colab.research.google.com/notebooks/data_table.ipynb>data table notebook</a>'\n",
              "            + ' to learn more about interactive tables.';\n",
              "          element.innerHTML = '';\n",
              "          dataTable['output_type'] = 'display_data';\n",
              "          await google.colab.output.renderOutput(dataTable, element);\n",
              "          const docLink = document.createElement('div');\n",
              "          docLink.innerHTML = docLinkHtml;\n",
              "          element.appendChild(docLink);\n",
              "        }\n",
              "      </script>\n",
              "    </div>\n",
              "  </div>\n",
              "  "
            ]
          },
          "metadata": {},
          "execution_count": 208
        }
      ]
    },
    {
      "cell_type": "markdown",
      "source": [
        "# REMOVING DUPLICATED ROWS"
      ],
      "metadata": {
        "id": "szOXvQ4t62sz"
      }
    },
    {
      "cell_type": "code",
      "source": [
        "df=df.drop_duplicates()"
      ],
      "metadata": {
        "id": "aX1_O72Iog0X"
      },
      "execution_count": 209,
      "outputs": []
    },
    {
      "cell_type": "code",
      "source": [
        "df.shape"
      ],
      "metadata": {
        "colab": {
          "base_uri": "https://localhost:8080/"
        },
        "id": "XpglOO2dolFD",
        "outputId": "f4e309b9-29c1-4b43-a40e-f0dcfeccc75d"
      },
      "execution_count": 210,
      "outputs": [
        {
          "output_type": "execute_result",
          "data": {
            "text/plain": [
              "(8216, 2)"
            ]
          },
          "metadata": {},
          "execution_count": 210
        }
      ]
    },
    {
      "cell_type": "code",
      "source": [
        "df.isna().sum()"
      ],
      "metadata": {
        "colab": {
          "base_uri": "https://localhost:8080/"
        },
        "id": "NguMmj6HonxM",
        "outputId": "d092cf3a-0710-4f2f-f6da-f5551dde5bbc"
      },
      "execution_count": 211,
      "outputs": [
        {
          "output_type": "execute_result",
          "data": {
            "text/plain": [
              "Date             0\n",
              "Closing Value    0\n",
              "dtype: int64"
            ]
          },
          "metadata": {},
          "execution_count": 211
        }
      ]
    },
    {
      "cell_type": "code",
      "source": [
        "data_oil=df.reset_index()['Closing Value']\n",
        "data_oil"
      ],
      "metadata": {
        "colab": {
          "base_uri": "https://localhost:8080/"
        },
        "id": "RlHQClpN_pvN",
        "outputId": "63660d9d-b5ba-4217-df84-d095e9e470bf"
      },
      "execution_count": 212,
      "outputs": [
        {
          "output_type": "execute_result",
          "data": {
            "text/plain": [
              "0       25.56\n",
              "1       26.00\n",
              "2       26.53\n",
              "3       25.85\n",
              "4       25.87\n",
              "        ...  \n",
              "8211    73.89\n",
              "8212    74.19\n",
              "8213    73.05\n",
              "8214    73.78\n",
              "8215    73.93\n",
              "Name: Closing Value, Length: 8216, dtype: float64"
            ]
          },
          "metadata": {},
          "execution_count": 212
        }
      ]
    },
    {
      "cell_type": "markdown",
      "source": [
        "# ROWS CONTAINING NULL VALUES"
      ],
      "metadata": {
        "id": "X6irhWaY7J8_"
      }
    },
    {
      "cell_type": "code",
      "source": [
        "df[df['Closing Value'].isna()]"
      ],
      "metadata": {
        "colab": {
          "base_uri": "https://localhost:8080/",
          "height": 49
        },
        "id": "F-q-0j90oqg0",
        "outputId": "b8b6050f-0e51-4c2a-f4f7-210430d1627a"
      },
      "execution_count": 213,
      "outputs": [
        {
          "output_type": "execute_result",
          "data": {
            "text/plain": [
              "Empty DataFrame\n",
              "Columns: [Date, Closing Value]\n",
              "Index: []"
            ],
            "text/html": [
              "\n",
              "  <div id=\"df-13cbef67-e014-48f3-ae3c-f2ea120bf8d9\">\n",
              "    <div class=\"colab-df-container\">\n",
              "      <div>\n",
              "<style scoped>\n",
              "    .dataframe tbody tr th:only-of-type {\n",
              "        vertical-align: middle;\n",
              "    }\n",
              "\n",
              "    .dataframe tbody tr th {\n",
              "        vertical-align: top;\n",
              "    }\n",
              "\n",
              "    .dataframe thead th {\n",
              "        text-align: right;\n",
              "    }\n",
              "</style>\n",
              "<table border=\"1\" class=\"dataframe\">\n",
              "  <thead>\n",
              "    <tr style=\"text-align: right;\">\n",
              "      <th></th>\n",
              "      <th>Date</th>\n",
              "      <th>Closing Value</th>\n",
              "    </tr>\n",
              "  </thead>\n",
              "  <tbody>\n",
              "  </tbody>\n",
              "</table>\n",
              "</div>\n",
              "      <button class=\"colab-df-convert\" onclick=\"convertToInteractive('df-13cbef67-e014-48f3-ae3c-f2ea120bf8d9')\"\n",
              "              title=\"Convert this dataframe to an interactive table.\"\n",
              "              style=\"display:none;\">\n",
              "        \n",
              "  <svg xmlns=\"http://www.w3.org/2000/svg\" height=\"24px\"viewBox=\"0 0 24 24\"\n",
              "       width=\"24px\">\n",
              "    <path d=\"M0 0h24v24H0V0z\" fill=\"none\"/>\n",
              "    <path d=\"M18.56 5.44l.94 2.06.94-2.06 2.06-.94-2.06-.94-.94-2.06-.94 2.06-2.06.94zm-11 1L8.5 8.5l.94-2.06 2.06-.94-2.06-.94L8.5 2.5l-.94 2.06-2.06.94zm10 10l.94 2.06.94-2.06 2.06-.94-2.06-.94-.94-2.06-.94 2.06-2.06.94z\"/><path d=\"M17.41 7.96l-1.37-1.37c-.4-.4-.92-.59-1.43-.59-.52 0-1.04.2-1.43.59L10.3 9.45l-7.72 7.72c-.78.78-.78 2.05 0 2.83L4 21.41c.39.39.9.59 1.41.59.51 0 1.02-.2 1.41-.59l7.78-7.78 2.81-2.81c.8-.78.8-2.07 0-2.86zM5.41 20L4 18.59l7.72-7.72 1.47 1.35L5.41 20z\"/>\n",
              "  </svg>\n",
              "      </button>\n",
              "      \n",
              "  <style>\n",
              "    .colab-df-container {\n",
              "      display:flex;\n",
              "      flex-wrap:wrap;\n",
              "      gap: 12px;\n",
              "    }\n",
              "\n",
              "    .colab-df-convert {\n",
              "      background-color: #E8F0FE;\n",
              "      border: none;\n",
              "      border-radius: 50%;\n",
              "      cursor: pointer;\n",
              "      display: none;\n",
              "      fill: #1967D2;\n",
              "      height: 32px;\n",
              "      padding: 0 0 0 0;\n",
              "      width: 32px;\n",
              "    }\n",
              "\n",
              "    .colab-df-convert:hover {\n",
              "      background-color: #E2EBFA;\n",
              "      box-shadow: 0px 1px 2px rgba(60, 64, 67, 0.3), 0px 1px 3px 1px rgba(60, 64, 67, 0.15);\n",
              "      fill: #174EA6;\n",
              "    }\n",
              "\n",
              "    [theme=dark] .colab-df-convert {\n",
              "      background-color: #3B4455;\n",
              "      fill: #D2E3FC;\n",
              "    }\n",
              "\n",
              "    [theme=dark] .colab-df-convert:hover {\n",
              "      background-color: #434B5C;\n",
              "      box-shadow: 0px 1px 3px 1px rgba(0, 0, 0, 0.15);\n",
              "      filter: drop-shadow(0px 1px 2px rgba(0, 0, 0, 0.3));\n",
              "      fill: #FFFFFF;\n",
              "    }\n",
              "  </style>\n",
              "\n",
              "      <script>\n",
              "        const buttonEl =\n",
              "          document.querySelector('#df-13cbef67-e014-48f3-ae3c-f2ea120bf8d9 button.colab-df-convert');\n",
              "        buttonEl.style.display =\n",
              "          google.colab.kernel.accessAllowed ? 'block' : 'none';\n",
              "\n",
              "        async function convertToInteractive(key) {\n",
              "          const element = document.querySelector('#df-13cbef67-e014-48f3-ae3c-f2ea120bf8d9');\n",
              "          const dataTable =\n",
              "            await google.colab.kernel.invokeFunction('convertToInteractive',\n",
              "                                                     [key], {});\n",
              "          if (!dataTable) return;\n",
              "\n",
              "          const docLinkHtml = 'Like what you see? Visit the ' +\n",
              "            '<a target=\"_blank\" href=https://colab.research.google.com/notebooks/data_table.ipynb>data table notebook</a>'\n",
              "            + ' to learn more about interactive tables.';\n",
              "          element.innerHTML = '';\n",
              "          dataTable['output_type'] = 'display_data';\n",
              "          await google.colab.output.renderOutput(dataTable, element);\n",
              "          const docLink = document.createElement('div');\n",
              "          docLink.innerHTML = docLinkHtml;\n",
              "          element.appendChild(docLink);\n",
              "        }\n",
              "      </script>\n",
              "    </div>\n",
              "  </div>\n",
              "  "
            ]
          },
          "metadata": {},
          "execution_count": 213
        }
      ]
    },
    {
      "cell_type": "code",
      "source": [
        "sns.distplot(df['Closing Value'], kde = True, color ='purple')\n",
        "plt.show()"
      ],
      "metadata": {
        "colab": {
          "base_uri": "https://localhost:8080/",
          "height": 334
        },
        "id": "rf15BYwBpPHl",
        "outputId": "8b58eef4-6cbe-4592-e353-c3e3b00d98ee"
      },
      "execution_count": 214,
      "outputs": [
        {
          "output_type": "stream",
          "name": "stderr",
          "text": [
            "/usr/local/lib/python3.7/dist-packages/seaborn/distributions.py:2619: FutureWarning: `distplot` is a deprecated function and will be removed in a future version. Please adapt your code to use either `displot` (a figure-level function with similar flexibility) or `histplot` (an axes-level function for histograms).\n",
            "  warnings.warn(msg, FutureWarning)\n"
          ]
        },
        {
          "output_type": "display_data",
          "data": {
            "text/plain": [
              "<Figure size 432x288 with 1 Axes>"
            ],
            "image/png": "[encoded data removed]"
          },
          "metadata": {}
        }
      ]
    },
    {
      "cell_type": "code",
      "source": [
        "df[\"Closing Value\"].median()"
      ],
      "metadata": {
        "colab": {
          "base_uri": "https://localhost:8080/"
        },
        "id": "a_32q8AcrI09",
        "outputId": "675c2fac-a167-42e9-ab5d-4696a237c496"
      },
      "execution_count": 215,
      "outputs": [
        {
          "output_type": "execute_result",
          "data": {
            "text/plain": [
              "29.61"
            ]
          },
          "metadata": {},
          "execution_count": 215
        }
      ]
    },
    {
      "cell_type": "markdown",
      "source": [
        "# REPLACING NULL VALUES WITH THE MEDIAN"
      ],
      "metadata": {
        "id": "jd0n4TVa7czH"
      }
    },
    {
      "cell_type": "code",
      "source": [
        "df['Closing Value']=df[\"Closing Value\"].fillna(df['Closing Value'].median())"
      ],
      "metadata": {
        "id": "5N4xBeKFss-i"
      },
      "execution_count": 216,
      "outputs": []
    },
    {
      "cell_type": "code",
      "source": [
        "df.isnull().sum()"
      ],
      "metadata": {
        "colab": {
          "base_uri": "https://localhost:8080/"
        },
        "id": "29uAXhGRs6eQ",
        "outputId": "a97a8933-6357-40e9-8c83-cfdfdf147530"
      },
      "execution_count": 217,
      "outputs": [
        {
          "output_type": "execute_result",
          "data": {
            "text/plain": [
              "Date             0\n",
              "Closing Value    0\n",
              "dtype: int64"
            ]
          },
          "metadata": {},
          "execution_count": 217
        }
      ]
    },
    {
      "cell_type": "markdown",
      "source": [
        "# UNIVARIATE ANALYSIS"
      ],
      "metadata": {
        "id": "FB47dVo17kCc"
      }
    },
    {
      "cell_type": "code",
      "source": [
        "plt.figure(figsize = (18,6))\n",
        "sns.countplot(df['Closing Value'])\n",
        "plt.title('Count across Closing Value',fontsize=16)\n",
        "plt.show()"
      ],
      "metadata": {
        "colab": {
          "base_uri": "https://localhost:8080/",
          "height": 461
        },
        "id": "EOwSJo3Gs9r_",
        "outputId": "2918b1d1-8fd5-451a-f59c-b76cf7252b81"
      },
      "execution_count": 218,
      "outputs": [
        {
          "output_type": "stream",
          "name": "stderr",
          "text": [
            "/usr/local/lib/python3.7/dist-packages/seaborn/_decorators.py:43: FutureWarning: Pass the following variable as a keyword arg: x. From version 0.12, the only valid positional argument will be `data`, and passing other arguments without an explicit keyword will result in an error or misinterpretation.\n",
            "  FutureWarning\n"
          ]
        },
        {
          "output_type": "display_data",
          "data": {
            "text/plain": [
              "<Figure size 1296x432 with 1 Axes>"
            ],
            "image/png": "[encoded data removed]"
          },
          "metadata": {}
        }
      ]
    },
    {
      "cell_type": "markdown",
      "source": [
        "# MULTIVARIATE ANALYSIS"
      ],
      "metadata": {
        "id": "LMuc7TI48S45"
      }
    },
    {
      "cell_type": "code",
      "source": [
        "plt.style.use(\"dark_background\")\n",
        "sns.pairplot(df)\n",
        "plt.title('Pair Plot')\n",
        "plt.show()"
      ],
      "metadata": {
        "colab": {
          "base_uri": "https://localhost:8080/",
          "height": 209
        },
        "id": "o-KlCw-h2PXI",
        "outputId": "7fe1398c-e68a-417c-deea-457b52377915"
      },
      "execution_count": 219,
      "outputs": [
        {
          "output_type": "display_data",
          "data": {
            "text/plain": [
              "<Figure size 180x180 with 2 Axes>"
            ],
            "image/png": "[encoded data removed]"
          },
          "metadata": {}
        }
      ]
    },
    {
      "cell_type": "markdown",
      "source": [
        "# DATA VISUALIZATION"
      ],
      "metadata": {
        "id": "4jut_tbV9OKW"
      }
    },
    {
      "cell_type": "code",
      "source": [
        "numerical_data=df[['Date','Closing Value']]"
      ],
      "metadata": {
        "id": "5x_ewPYR28vr"
      },
      "execution_count": 220,
      "outputs": []
    },
    {
      "cell_type": "code",
      "source": [
        "plt.title('Crude oil price')\n",
        "plt.plot(data_oil)"
      ],
      "metadata": {
        "id": "KGmungMj5GMC",
        "colab": {
          "base_uri": "https://localhost:8080/",
          "height": 298
        },
        "outputId": "f6de204e-4e68-4487-a1b8-2d5ede995c4e"
      },
      "execution_count": 221,
      "outputs": [
        {
          "output_type": "execute_result",
          "data": {
            "text/plain": [
              "[<matplotlib.lines.Line2D at 0x7fd9c9e46f90>]"
            ]
          },
          "metadata": {},
          "execution_count": 221
        },
        {
          "output_type": "display_data",
          "data": {
            "text/plain": [
              "<Figure size 432x288 with 1 Axes>"
            ],
            "image/png": "[encoded data removed]"
          },
          "metadata": {}
        }
      ]
    },
    {
      "cell_type": "markdown",
      "source": [
        "# PLOTTING A HEATMAP"
      ],
      "metadata": {
        "id": "JX_nAiKT7_Sg"
      }
    },
    {
      "cell_type": "code",
      "source": [
        "data = np.random.random(( 12 , 12 ))\n",
        "plt.imshow( data , cmap = 'autumn' , interpolation = 'nearest' )\n",
        "  \n",
        "plt.title( \"Heat Map\" )\n",
        "plt.show()"
      ],
      "metadata": {
        "colab": {
          "base_uri": "https://localhost:8080/",
          "height": 281
        },
        "id": "srnhvTtR3dy7",
        "outputId": "169d54d4-53ad-4128-ebc4-70d6ef4edb9d"
      },
      "execution_count": 222,
      "outputs": [
        {
          "output_type": "display_data",
          "data": {
            "text/plain": [
              "<Figure size 432x288 with 1 Axes>"
            ],
            "image/png": "[encoded data removed]"
          },
          "metadata": {}
        }
      ]
    },
    {
      "cell_type": "code",
      "source": [
        "type(df)"
      ],
      "metadata": {
        "colab": {
          "base_uri": "https://localhost:8080/"
        },
        "id": "O4P6EHLNGnWW",
        "outputId": "e5dfa315-290e-4295-d168-08a47278bf0e"
      },
      "execution_count": 223,
      "outputs": [
        {
          "output_type": "execute_result",
          "data": {
            "text/plain": [
              "pandas.core.frame.DataFrame"
            ]
          },
          "metadata": {},
          "execution_count": 223
        }
      ]
    },
    {
      "cell_type": "markdown",
      "source": [
        "# FEATURE SCALING"
      ],
      "metadata": {
        "id": "Y9qRsYsn-vaR"
      }
    },
    {
      "cell_type": "code",
      "source": [
        "from sklearn.preprocessing import MinMaxScaler\n",
        "scaler=MinMaxScaler(feature_range=(0,1))\n",
        "data_oil=scaler.fit_transform(np.array(data_oil).reshape(-1,1))"
      ],
      "metadata": {
        "id": "jAeMsGGQA1Z6"
      },
      "execution_count": 224,
      "outputs": []
    },
    {
      "cell_type": "markdown",
      "source": [
        "# SPLITTING INTO TEST AND TRAIN DATA"
      ],
      "metadata": {
        "id": "WYP27ixL-4wx"
      }
    },
    {
      "cell_type": "code",
      "source": [
        "training_size=int(len(data_oil)*0.65)\n",
        "test_size=len(data_oil)-training_size\n",
        "train_data,test_data=data_oil[0:training_size,:],data_oil[training_size:len(data_oil),:1]"
      ],
      "metadata": {
        "id": "MIse20b5BQyd"
      },
      "execution_count": 225,
      "outputs": []
    },
    {
      "cell_type": "code",
      "source": [
        "training_size,test_size"
      ],
      "metadata": {
        "colab": {
          "base_uri": "https://localhost:8080/"
        },
        "id": "Y9R9EWO8BSXi",
        "outputId": "4aff708d-7ce9-47ee-8019-89e0c7db2c74"
      },
      "execution_count": 226,
      "outputs": [
        {
          "output_type": "execute_result",
          "data": {
            "text/plain": [
              "(5340, 2876)"
            ]
          },
          "metadata": {},
          "execution_count": 226
        }
      ]
    },
    {
      "cell_type": "code",
      "source": [
        "train_data.shape"
      ],
      "metadata": {
        "colab": {
          "base_uri": "https://localhost:8080/"
        },
        "id": "IIdWap0OBXqa",
        "outputId": "7f48e121-beac-40bf-b4ff-94634ad8e2c5"
      },
      "execution_count": 227,
      "outputs": [
        {
          "output_type": "execute_result",
          "data": {
            "text/plain": [
              "(5340, 1)"
            ]
          },
          "metadata": {},
          "execution_count": 227
        }
      ]
    },
    {
      "cell_type": "markdown",
      "source": [
        "#  CREATING DATASET WITH SLIDING WINDOWS"
      ],
      "metadata": {
        "id": "tbMcKTh4_E1y"
      }
    },
    {
      "cell_type": "code",
      "source": [
        "def create_dataset (dataset, time_step=1):\n",
        "    dataX, dataY = [], []\n",
        "\n",
        "    for i in range(len(dataset)-time_step-1):\n",
        "\n",
        "        a = dataset[i:(i+time_step), 0] \n",
        "        dataX.append(a)\n",
        "        dataY.append(dataset[i + time_step, 0])\n",
        "\n",
        "    return np.array(dataX),np.array(dataY)"
      ],
      "metadata": {
        "id": "wTGPf90dBYmb"
      },
      "execution_count": 228,
      "outputs": []
    },
    {
      "cell_type": "code",
      "source": [
        "time_step = 10\n",
        "\n",
        "X_train, Y_train=create_dataset(train_data,time_step)\n",
        "\n",
        "X_test, Y_test = create_dataset(test_data,time_step)\n"
      ],
      "metadata": {
        "id": "qZVUuIG9Bdh-"
      },
      "execution_count": 229,
      "outputs": []
    },
    {
      "cell_type": "code",
      "source": [
        "print(X_train.shape),print(Y_train.shape)"
      ],
      "metadata": {
        "colab": {
          "base_uri": "https://localhost:8080/"
        },
        "id": "yWdMdmqwBhP3",
        "outputId": "3bc3511c-f7cc-45b7-a811-9bddbcfcc199"
      },
      "execution_count": 230,
      "outputs": [
        {
          "output_type": "stream",
          "name": "stdout",
          "text": [
            "(5329, 10)\n",
            "(5329,)\n"
          ]
        },
        {
          "output_type": "execute_result",
          "data": {
            "text/plain": [
              "(None, None)"
            ]
          },
          "metadata": {},
          "execution_count": 230
        }
      ]
    },
    {
      "cell_type": "code",
      "source": [
        "print(X_test.shape),print(Y_test.shape)"
      ],
      "metadata": {
        "colab": {
          "base_uri": "https://localhost:8080/"
        },
        "id": "hY8oZXR2B00b",
        "outputId": "32172885-6893-423c-c586-f7a877b10f3a"
      },
      "execution_count": 231,
      "outputs": [
        {
          "output_type": "stream",
          "name": "stdout",
          "text": [
            "(2865, 10)\n",
            "(2865,)\n"
          ]
        },
        {
          "output_type": "execute_result",
          "data": {
            "text/plain": [
              "(None, None)"
            ]
          },
          "metadata": {},
          "execution_count": 231
        }
      ]
    },
    {
      "cell_type": "code",
      "source": [
        "X_train"
      ],
      "metadata": {
        "colab": {
          "base_uri": "https://localhost:8080/"
        },
        "id": "tEy5YjlBB5IJ",
        "outputId": "a0a3ce99-4be6-45f2-fb6c-22e55a94c0a9"
      },
      "execution_count": 232,
      "outputs": [
        {
          "output_type": "execute_result",
          "data": {
            "text/plain": [
              "array([[0.11335703, 0.11661484, 0.12053902, ..., 0.10980305, 0.1089886 ,\n",
              "        0.11054346],\n",
              "       [0.11661484, 0.12053902, 0.11550422, ..., 0.1089886 , 0.11054346,\n",
              "        0.10165852],\n",
              "       [0.12053902, 0.11550422, 0.1156523 , ..., 0.11054346, 0.10165852,\n",
              "        0.09906708],\n",
              "       ...,\n",
              "       [0.36731823, 0.35176958, 0.36080261, ..., 0.36391234, 0.37042796,\n",
              "        0.37042796],\n",
              "       [0.35176958, 0.36080261, 0.35354657, ..., 0.37042796, 0.37042796,\n",
              "        0.37879461],\n",
              "       [0.36080261, 0.35354657, 0.35295424, ..., 0.37042796, 0.37879461,\n",
              "        0.37916482]])"
            ]
          },
          "metadata": {},
          "execution_count": 232
        }
      ]
    },
    {
      "cell_type": "code",
      "source": [
        "X_train.shape"
      ],
      "metadata": {
        "colab": {
          "base_uri": "https://localhost:8080/"
        },
        "id": "CELuYK9IB9JY",
        "outputId": "8c151903-80d5-4a6a-cccc-7698c87821ab"
      },
      "execution_count": 233,
      "outputs": [
        {
          "output_type": "execute_result",
          "data": {
            "text/plain": [
              "(5329, 10)"
            ]
          },
          "metadata": {},
          "execution_count": 233
        }
      ]
    },
    {
      "cell_type": "code",
      "source": [
        "X_train=X_train.reshape(X_train.shape[0],X_train.shape[1],1)\n",
        "X_test=X_test.reshape(X_test.shape[0],X_test.shape[1],1)"
      ],
      "metadata": {
        "id": "Z2BLKrF5CDVw"
      },
      "execution_count": 234,
      "outputs": []
    },
    {
      "cell_type": "code",
      "source": [
        "from tensorflow.keras.models import Sequential\n",
        "from tensorflow.keras.layers import Dense\n",
        "from tensorflow.keras.layers import LSTM"
      ],
      "metadata": {
        "id": "ZUDkZYySCLGq"
      },
      "execution_count": 235,
      "outputs": []
    },
    {
      "cell_type": "markdown",
      "source": [
        "# SEQUENTIAL MODEL"
      ],
      "metadata": {
        "id": "_p9o8BpC_Tul"
      }
    },
    {
      "cell_type": "code",
      "source": [
        "model=Sequential()"
      ],
      "metadata": {
        "id": "7sWDxMcpCYqy"
      },
      "execution_count": 236,
      "outputs": []
    },
    {
      "cell_type": "markdown",
      "source": [
        "# LSTM MODEL"
      ],
      "metadata": {
        "id": "wM_NvsAg_ZML"
      }
    },
    {
      "cell_type": "code",
      "source": [
        "model.add(LSTM(50,return_sequences=True,input_shape=(10,1)))\n",
        "model.add(LSTM(50,return_sequences=True))\n",
        "model.add(LSTM(50))"
      ],
      "metadata": {
        "id": "nZ8iVaKBCc-e"
      },
      "execution_count": 237,
      "outputs": []
    },
    {
      "cell_type": "markdown",
      "source": [
        "# DENSE MODEL"
      ],
      "metadata": {
        "id": "yKj6QK_M_bTT"
      }
    },
    {
      "cell_type": "code",
      "source": [
        "model.add(Dense(1))"
      ],
      "metadata": {
        "id": "-C_c7hoRCepU"
      },
      "execution_count": 238,
      "outputs": []
    },
    {
      "cell_type": "code",
      "source": [
        "model.summary()"
      ],
      "metadata": {
        "colab": {
          "base_uri": "https://localhost:8080/"
        },
        "id": "ObwEBpF_Cibi",
        "outputId": "33a594da-b490-44a4-e610-5ec98a3eac5d"
      },
      "execution_count": 239,
      "outputs": [
        {
          "output_type": "stream",
          "name": "stdout",
          "text": [
            "Model: \"sequential_3\"\n",
            "_________________________________________________________________\n",
            " Layer (type)                Output Shape              Param #   \n",
            "=================================================================\n",
            " lstm_9 (LSTM)               (None, 10, 50)            10400     \n",
            "                                                                 \n",
            " lstm_10 (LSTM)              (None, 10, 50)            20200     \n",
            "                                                                 \n",
            " lstm_11 (LSTM)              (None, 50)                20200     \n",
            "                                                                 \n",
            " dense_3 (Dense)             (None, 1)                 51        \n",
            "                                                                 \n",
            "=================================================================\n",
            "Total params: 50,851\n",
            "Trainable params: 50,851\n",
            "Non-trainable params: 0\n",
            "_________________________________________________________________\n"
          ]
        }
      ]
    },
    {
      "cell_type": "code",
      "source": [
        "model.compile(loss='mean_squared_error',optimizer='adam')"
      ],
      "metadata": {
        "id": "F934qmTLCkpj"
      },
      "execution_count": 240,
      "outputs": []
    },
    {
      "cell_type": "markdown",
      "source": [
        "# EPOCHS"
      ],
      "metadata": {
        "id": "ycvjR8NHCoXV"
      }
    },
    {
      "cell_type": "code",
      "source": [
        "model.fit(X_train,Y_train,validation_data=(X_test,Y_test),epochs=5,batch_size=64,verbose=1)"
      ],
      "metadata": {
        "colab": {
          "base_uri": "https://localhost:8080/"
        },
        "id": "cWip0kSGCpo3",
        "outputId": "05899361-7251-4b3c-b43c-de9827ae4497"
      },
      "execution_count": 241,
      "outputs": [
        {
          "output_type": "stream",
          "name": "stdout",
          "text": [
            "Epoch 1/5\n",
            "84/84 [==============================] - 10s 43ms/step - loss: 0.0020 - val_loss: 0.0011\n",
            "Epoch 2/5\n",
            "84/84 [==============================] - 2s 27ms/step - loss: 1.2989e-04 - val_loss: 7.5860e-04\n",
            "Epoch 3/5\n",
            "84/84 [==============================] - 2s 27ms/step - loss: 1.2429e-04 - val_loss: 7.8275e-04\n",
            "Epoch 4/5\n",
            "84/84 [==============================] - 2s 27ms/step - loss: 1.2124e-04 - val_loss: 8.5721e-04\n",
            "Epoch 5/5\n",
            "84/84 [==============================] - 2s 26ms/step - loss: 1.2216e-04 - val_loss: 8.8231e-04\n"
          ]
        },
        {
          "output_type": "execute_result",
          "data": {
            "text/plain": [
              "<keras.callbacks.History at 0x7fda48ae2dd0>"
            ]
          },
          "metadata": {},
          "execution_count": 241
        }
      ]
    },
    {
      "cell_type": "markdown",
      "source": [
        "# TRANSFORM BACK TO ORIGINAL FORM"
      ],
      "metadata": {
        "id": "Di-mKyW8_jAk"
      }
    },
    {
      "cell_type": "code",
      "source": [
        "train_predict=scaler.inverse_transform(train_data) \n",
        "test_predict=scaler.inverse_transform(test_data)"
      ],
      "metadata": {
        "id": "S9u6fn5-DCLp"
      },
      "execution_count": 242,
      "outputs": []
    },
    {
      "cell_type": "markdown",
      "source": [
        "# CALCULATE RMSE PERFORMANCE METRICS"
      ],
      "metadata": {
        "id": "lfg4H38z_wqc"
      }
    },
    {
      "cell_type": "code",
      "source": [
        "import math \n",
        "from sklearn.metrics import mean_squared_error\n",
        "math.sqrt(mean_squared_error(train_data,train_predict))"
      ],
      "metadata": {
        "colab": {
          "base_uri": "https://localhost:8080/"
        },
        "id": "FasUwo03_t_v",
        "outputId": "4ae2e779-1b9f-4af7-f925-6fd56618fef8"
      },
      "execution_count": 243,
      "outputs": [
        {
          "output_type": "execute_result",
          "data": {
            "text/plain": [
              "29.347830443269938"
            ]
          },
          "metadata": {},
          "execution_count": 243
        }
      ]
    },
    {
      "cell_type": "code",
      "source": [
        "from tensorflow.keras.models import load_model"
      ],
      "metadata": {
        "id": "UewD6RJ2DI_y"
      },
      "execution_count": 244,
      "outputs": []
    },
    {
      "cell_type": "code",
      "source": [
        "model.save(\"crude_oil.h5\")"
      ],
      "metadata": {
        "id": "sEieYZ5bDMco"
      },
      "execution_count": 245,
      "outputs": []
    },
    {
      "cell_type": "code",
      "source": [
        "!tar -zcvf crudeoils.tgz crude_oil.h5"
      ],
      "metadata": {
        "colab": {
          "base_uri": "https://localhost:8080/"
        },
        "id": "x6DyBm3P_FtI",
        "outputId": "e3f1bcf7-a83b-44d5-c451-582efc290c02"
      },
      "execution_count": 246,
      "outputs": [
        {
          "output_type": "stream",
          "name": "stdout",
          "text": [
            "crude_oil.h5\n"
          ]
        }
      ]
    },
    {
      "cell_type": "markdown",
      "source": [
        "# PLOTTING"
      ],
      "metadata": {
        "id": "xKIQvRvI_8v2"
      }
    },
    {
      "cell_type": "code",
      "source": [
        "look_back=10\n",
        "trainpredictPlot = np.empty_like(data_oil)\n",
        "trainpredictPlot[:, :]= np.nan\n",
        "trainpredictPlot[look_back:len(train_predict)+look_back, :] = train_predict\n"
      ],
      "metadata": {
        "id": "tWXC1VALDZMf"
      },
      "execution_count": 247,
      "outputs": []
    },
    {
      "cell_type": "markdown",
      "source": [
        "# SHIFT TEST PREDICTIONS FOR PLOTTING"
      ],
      "metadata": {
        "id": "E_LcRwCLALCb"
      }
    },
    {
      "cell_type": "code",
      "source": [
        "testPredictplot = np.empty_like(data_oil)\n",
        "testPredictplot[:,: ] = np.nan\n",
        "testPredictplot[look_back:len(test_predict)+look_back, :] = test_predict"
      ],
      "metadata": {
        "id": "G0JF-oSOAEdW"
      },
      "execution_count": 248,
      "outputs": []
    },
    {
      "cell_type": "markdown",
      "source": [
        "# PLOT BASELINE AND PREDICTIONS"
      ],
      "metadata": {
        "id": "KfOsWF-tASzD"
      }
    },
    {
      "cell_type": "markdown",
      "source": [],
      "metadata": {
        "id": "BrrjBJGeSKIU"
      }
    },
    {
      "cell_type": "code",
      "source": [
        "plt.plot(scaler.inverse_transform(data_oil))\n",
        "plt.show()"
      ],
      "metadata": {
        "colab": {
          "base_uri": "https://localhost:8080/",
          "height": 265
        },
        "id": "9la5bwR0AH4j",
        "outputId": "0cad67c6-8132-4540-b1f1-1d29efd9a43b"
      },
      "execution_count": 249,
      "outputs": [
        {
          "output_type": "display_data",
          "data": {
            "text/plain": [
              "<Figure size 432x288 with 1 Axes>"
            ],
            "image/png": "[encoded data removed]"
          },
          "metadata": {}
        }
      ]
    },
    {
      "cell_type": "code",
      "source": [
        "len(test_data)"
      ],
      "metadata": {
        "colab": {
          "base_uri": "https://localhost:8080/"
        },
        "id": "0CEZtTnmDbXY",
        "outputId": "52806f1b-c155-4a45-b522-928dfc5ee5ce"
      },
      "execution_count": 250,
      "outputs": [
        {
          "output_type": "execute_result",
          "data": {
            "text/plain": [
              "2876"
            ]
          },
          "metadata": {},
          "execution_count": 250
        }
      ]
    },
    {
      "cell_type": "code",
      "source": [
        "X_input=test_data[2866:].reshape(1,-1)\n",
        "X_input.shape"
      ],
      "metadata": {
        "colab": {
          "base_uri": "https://localhost:8080/"
        },
        "id": "20NQBq_XDg7A",
        "outputId": "ec8f933f-87fe-41df-8721-d81f7375088d"
      },
      "execution_count": 251,
      "outputs": [
        {
          "output_type": "execute_result",
          "data": {
            "text/plain": [
              "(1, 10)"
            ]
          },
          "metadata": {},
          "execution_count": 251
        }
      ]
    },
    {
      "cell_type": "code",
      "source": [
        "(1, 10)\n",
        "temp_input=list(X_input) \n",
        "temp_input=temp_input[0].tolist()"
      ],
      "metadata": {
        "id": "82I00r3oDmCz"
      },
      "execution_count": 252,
      "outputs": []
    },
    {
      "cell_type": "code",
      "source": [
        "temp_input"
      ],
      "metadata": {
        "colab": {
          "base_uri": "https://localhost:8080/"
        },
        "id": "eiST2egLDpPB",
        "outputId": "9efa80eb-a7b5-4e67-9f12-52ad092b99d7"
      },
      "execution_count": 253,
      "outputs": [
        {
          "output_type": "execute_result",
          "data": {
            "text/plain": [
              "[0.44172960165852215,\n",
              " 0.48111950244335855,\n",
              " 0.49726047682511476,\n",
              " 0.4679401747371539,\n",
              " 0.4729749740855915,\n",
              " 0.47119798608026064,\n",
              " 0.47341922108692425,\n",
              " 0.4649785280616022,\n",
              " 0.4703835332444839,\n",
              " 0.47149415074781587]"
            ]
          },
          "metadata": {},
          "execution_count": 253
        }
      ]
    },
    {
      "cell_type": "code",
      "source": [
        "lst_output=[]\n",
        "n_steps=10\n",
        "i=0\n",
        "while(i<10):\n",
        "    if(len(temp_input)>10):\n",
        "       X_input=np.array(temp_input[1:]) \n",
        "       print(\"{} day input {}\".format(i,X_input))\n",
        "       X_input=X_input.reshape(1,-1)\n",
        "       X_input = X_input.reshape((1, n_steps, 1)) \n",
        "       yhat = model.predict(X_input, verbose=0)\n",
        "       print(\"{} day output {}\".format(i,yhat))\n",
        "       temp_input.extend(yhat[0].tolist())\n",
        "       temp_input=temp_input[1:] \n",
        "       lst_output.extend(yhat.tolist())\n",
        "       i=i+1\n",
        "    else:\n",
        "       X_input = X_input.reshape((1, n_steps,1))\n",
        "       yhat = model.predict(X_input, verbose=0)\n",
        "       print(yhat[0])\n",
        "       temp_input.extend(yhat[0].tolist()) \n",
        "       print(len(temp_input))\n",
        "       lst_output.extend(yhat.tolist())\n",
        "       i=i+1"
      ],
      "metadata": {
        "colab": {
          "base_uri": "https://localhost:8080/"
        },
        "id": "Ufr2YFehDr6X",
        "outputId": "d0acf073-d998-4635-e3a6-c99b6323634b"
      },
      "execution_count": 254,
      "outputs": [
        {
          "output_type": "stream",
          "name": "stdout",
          "text": [
            "[0.4698805]\n",
            "11\n",
            "1 day input [0.4811195  0.49726048 0.46794017 0.47297497 0.47119799 0.47341922\n",
            " 0.46497853 0.47038353 0.47149415 0.46988049]\n",
            "1 day output [[0.47300652]]\n",
            "2 day input [0.49726048 0.46794017 0.47297497 0.47119799 0.47341922 0.46497853\n",
            " 0.47038353 0.47149415 0.46988049 0.47300652]\n",
            "2 day output [[0.47155723]]\n",
            "3 day input [0.46794017 0.47297497 0.47119799 0.47341922 0.46497853 0.47038353\n",
            " 0.47149415 0.46988049 0.47300652 0.47155723]\n",
            "3 day output [[0.46847057]]\n",
            "4 day input [0.47297497 0.47119799 0.47341922 0.46497853 0.47038353 0.47149415\n",
            " 0.46988049 0.47300652 0.47155723 0.46847057]\n",
            "4 day output [[0.4687747]]\n",
            "5 day input [0.47119799 0.47341922 0.46497853 0.47038353 0.47149415 0.46988049\n",
            " 0.47300652 0.47155723 0.46847057 0.46877471]\n",
            "5 day output [[0.46846893]]\n",
            "6 day input [0.47341922 0.46497853 0.47038353 0.47149415 0.46988049 0.47300652\n",
            " 0.47155723 0.46847057 0.46877471 0.46846893]\n",
            "6 day output [[0.4683229]]\n",
            "7 day input [0.46497853 0.47038353 0.47149415 0.46988049 0.47300652 0.47155723\n",
            " 0.46847057 0.46877471 0.46846893 0.4683229 ]\n",
            "7 day output [[0.46788758]]\n",
            "8 day input [0.47038353 0.47149415 0.46988049 0.47300652 0.47155723 0.46847057\n",
            " 0.46877471 0.46846893 0.4683229  0.46788758]\n",
            "8 day output [[0.46832606]]\n",
            "9 day input [0.47149415 0.46988049 0.47300652 0.47155723 0.46847057 0.46877471\n",
            " 0.46846893 0.4683229  0.46788758 0.46832606]\n",
            "9 day output [[0.46807587]]\n"
          ]
        }
      ]
    },
    {
      "cell_type": "code",
      "source": [
        "day_new=np.arange(1,11) \n",
        "day_pred=np.arange(11,21)\n",
        "len(data_oil)\n",
        "plt.plot(day_new, scaler.inverse_transform(data_oil[8206:])) \n",
        "plt.plot(day_pred, scaler.inverse_transform(lst_output))"
      ],
      "metadata": {
        "colab": {
          "base_uri": "https://localhost:8080/",
          "height": 282
        },
        "id": "WrWlMgOCD-6r",
        "outputId": "c2991c3c-73ab-4d39-a47f-2dbc82be9557"
      },
      "execution_count": 255,
      "outputs": [
        {
          "output_type": "execute_result",
          "data": {
            "text/plain": [
              "[<matplotlib.lines.Line2D at 0x7fda49ebf350>]"
            ]
          },
          "metadata": {},
          "execution_count": 255
        },
        {
          "output_type": "display_data",
          "data": {
            "text/plain": [
              "<Figure size 432x288 with 1 Axes>"
            ],
            "image/png": "[encoded data removed]"
          },
          "metadata": {}
        }
      ]
    },
    {
      "cell_type": "code",
      "source": [
        "df3=data_oil.tolist() \n",
        "df3.extend(lst_output) \n",
        "plt.plot(df3[8100:])"
      ],
      "metadata": {
        "colab": {
          "base_uri": "https://localhost:8080/",
          "height": 282
        },
        "id": "vY4SV8gXECzU",
        "outputId": "c9ac20cd-4702-4c15-e0ab-6415ce372e74"
      },
      "execution_count": 256,
      "outputs": [
        {
          "output_type": "execute_result",
          "data": {
            "text/plain": [
              "[<matplotlib.lines.Line2D at 0x7fda4de71f10>]"
            ]
          },
          "metadata": {},
          "execution_count": 256
        },
        {
          "output_type": "display_data",
          "data": {
            "text/plain": [
              "<Figure size 432x288 with 1 Axes>"
            ],
            "image/png": "[encoded data removed]"
          },
          "metadata": {}
        }
      ]
    },
    {
      "cell_type": "code",
      "source": [
        "df3=scaler.inverse_transform(df3).tolist()"
      ],
      "metadata": {
        "id": "HKhh1BZwEGcj"
      },
      "execution_count": 257,
      "outputs": []
    },
    {
      "cell_type": "code",
      "source": [
        "plt.plot(scaler.inverse_transform(data_oil))"
      ],
      "metadata": {
        "colab": {
          "base_uri": "https://localhost:8080/",
          "height": 282
        },
        "id": "aAjONvYdEK8H",
        "outputId": "11bbda67-fa79-4636-c803-8105e4384c49"
      },
      "execution_count": 258,
      "outputs": [
        {
          "output_type": "execute_result",
          "data": {
            "text/plain": [
              "[<matplotlib.lines.Line2D at 0x7fda49ec1410>]"
            ]
          },
          "metadata": {},
          "execution_count": 258
        },
        {
          "output_type": "display_data",
          "data": {
            "text/plain": [
              "<Figure size 432x288 with 1 Axes>"
            ],
            "image/png": "[encoded data removed]"
          },
          "metadata": {}
        }
      ]
    },
    {
      "cell_type": "markdown",
      "source": [
        "# IBM DEPLOYMENT \n",
        "\n",
        "\n"
      ],
      "metadata": {
        "id": "E-jiyky0Abtp"
      }
    },
    {
      "cell_type": "code",
      "source": [
        "!pip install watson-machine-learning-client"
      ],
      "metadata": {
        "colab": {
          "base_uri": "https://localhost:8080/"
        },
        "id": "J2v51_A-Adft",
        "outputId": "79497d28-01ae-478a-b789-24c833907ac6"
      },
      "execution_count": 259,
      "outputs": [
        {
          "output_type": "stream",
          "name": "stdout",
          "text": [
            "Looking in indexes: https://pypi.org/simple, https://us-python.pkg.dev/colab-wheels/public/simple/\n",
            "Requirement already satisfied: watson-machine-learning-client in /usr/local/lib/python3.7/dist-packages (1.0.391)\n",
            "Requirement already satisfied: requests in /usr/local/lib/python3.7/dist-packages (from watson-machine-learning-client) (2.28.1)\n",
            "Requirement already satisfied: urllib3 in /usr/local/lib/python3.7/dist-packages (from watson-machine-learning-client) (1.26.12)\n",
            "Requirement already satisfied: tabulate in /usr/local/lib/python3.7/dist-packages (from watson-machine-learning-client) (0.8.10)\n",
            "Requirement already satisfied: tqdm in /usr/local/lib/python3.7/dist-packages (from watson-machine-learning-client) (4.64.1)\n",
            "Requirement already satisfied: certifi in /usr/local/lib/python3.7/dist-packages (from watson-machine-learning-client) (2022.9.24)\n",
            "Requirement already satisfied: ibm-cos-sdk in /usr/local/lib/python3.7/dist-packages (from watson-machine-learning-client) (2.7.0)\n",
            "Requirement already satisfied: lomond in /usr/local/lib/python3.7/dist-packages (from watson-machine-learning-client) (0.3.3)\n",
            "Requirement already satisfied: pandas in /usr/local/lib/python3.7/dist-packages (from watson-machine-learning-client) (1.3.5)\n",
            "Requirement already satisfied: boto3 in /usr/local/lib/python3.7/dist-packages (from watson-machine-learning-client) (1.26.6)\n",
            "Requirement already satisfied: botocore<1.30.0,>=1.29.6 in /usr/local/lib/python3.7/dist-packages (from boto3->watson-machine-learning-client) (1.29.6)\n",
            "Requirement already satisfied: s3transfer<0.7.0,>=0.6.0 in /usr/local/lib/python3.7/dist-packages (from boto3->watson-machine-learning-client) (0.6.0)\n",
            "Requirement already satisfied: jmespath<2.0.0,>=0.7.1 in /usr/local/lib/python3.7/dist-packages (from boto3->watson-machine-learning-client) (0.10.0)\n",
            "Requirement already satisfied: python-dateutil<3.0.0,>=2.1 in /usr/local/lib/python3.7/dist-packages (from botocore<1.30.0,>=1.29.6->boto3->watson-machine-learning-client) (2.8.2)\n",
            "Requirement already satisfied: six>=1.5 in /usr/local/lib/python3.7/dist-packages (from python-dateutil<3.0.0,>=2.1->botocore<1.30.0,>=1.29.6->boto3->watson-machine-learning-client) (1.15.0)\n",
            "Requirement already satisfied: ibm-cos-sdk-s3transfer==2.7.0 in /usr/local/lib/python3.7/dist-packages (from ibm-cos-sdk->watson-machine-learning-client) (2.7.0)\n",
            "Requirement already satisfied: ibm-cos-sdk-core==2.7.0 in /usr/local/lib/python3.7/dist-packages (from ibm-cos-sdk->watson-machine-learning-client) (2.7.0)\n",
            "Requirement already satisfied: docutils<0.16,>=0.10 in /usr/local/lib/python3.7/dist-packages (from ibm-cos-sdk-core==2.7.0->ibm-cos-sdk->watson-machine-learning-client) (0.15.2)\n",
            "Requirement already satisfied: idna<4,>=2.5 in /usr/local/lib/python3.7/dist-packages (from requests->watson-machine-learning-client) (2.10)\n",
            "Requirement already satisfied: charset-normalizer<3,>=2 in /usr/local/lib/python3.7/dist-packages (from requests->watson-machine-learning-client) (2.1.1)\n",
            "Requirement already satisfied: numpy>=1.17.3 in /usr/local/lib/python3.7/dist-packages (from pandas->watson-machine-learning-client) (1.21.6)\n",
            "Requirement already satisfied: pytz>=2017.3 in /usr/local/lib/python3.7/dist-packages (from pandas->watson-machine-learning-client) (2022.6)\n"
          ]
        }
      ]
    },
    {
      "cell_type": "code",
      "source": [
        "!pip install ibm_watson_machine_learning"
      ],
      "metadata": {
        "colab": {
          "base_uri": "https://localhost:8080/"
        },
        "id": "KA6p-aMiBmXM",
        "outputId": "f85225e7-0df2-40b1-f2e6-9f9b4387f377"
      },
      "execution_count": 260,
      "outputs": [
        {
          "output_type": "stream",
          "name": "stdout",
          "text": [
            "Looking in indexes: https://pypi.org/simple, https://us-python.pkg.dev/colab-wheels/public/simple/\n",
            "Requirement already satisfied: ibm_watson_machine_learning in /usr/local/lib/python3.7/dist-packages (1.0.257)\n",
            "Requirement already satisfied: lomond in /usr/local/lib/python3.7/dist-packages (from ibm_watson_machine_learning) (0.3.3)\n",
            "Requirement already satisfied: packaging in /usr/local/lib/python3.7/dist-packages (from ibm_watson_machine_learning) (21.3)\n",
            "Requirement already satisfied: tabulate in /usr/local/lib/python3.7/dist-packages (from ibm_watson_machine_learning) (0.8.10)\n",
            "Requirement already satisfied: ibm-cos-sdk==2.7.* in /usr/local/lib/python3.7/dist-packages (from ibm_watson_machine_learning) (2.7.0)\n",
            "Requirement already satisfied: urllib3 in /usr/local/lib/python3.7/dist-packages (from ibm_watson_machine_learning) (1.26.12)\n",
            "Requirement already satisfied: importlib-metadata in /usr/local/lib/python3.7/dist-packages (from ibm_watson_machine_learning) (4.13.0)\n",
            "Requirement already satisfied: certifi in /usr/local/lib/python3.7/dist-packages (from ibm_watson_machine_learning) (2022.9.24)\n",
            "Requirement already satisfied: pandas<1.5.0,>=0.24.2 in /usr/local/lib/python3.7/dist-packages (from ibm_watson_machine_learning) (1.3.5)\n",
            "Requirement already satisfied: requests in /usr/local/lib/python3.7/dist-packages (from ibm_watson_machine_learning) (2.28.1)\n",
            "Requirement already satisfied: jmespath<1.0.0,>=0.7.1 in /usr/local/lib/python3.7/dist-packages (from ibm-cos-sdk==2.7.*->ibm_watson_machine_learning) (0.10.0)\n",
            "Requirement already satisfied: ibm-cos-sdk-s3transfer==2.7.0 in /usr/local/lib/python3.7/dist-packages (from ibm-cos-sdk==2.7.*->ibm_watson_machine_learning) (2.7.0)\n",
            "Requirement already satisfied: ibm-cos-sdk-core==2.7.0 in /usr/local/lib/python3.7/dist-packages (from ibm-cos-sdk==2.7.*->ibm_watson_machine_learning) (2.7.0)\n",
            "Requirement already satisfied: python-dateutil<3.0.0,>=2.1 in /usr/local/lib/python3.7/dist-packages (from ibm-cos-sdk-core==2.7.0->ibm-cos-sdk==2.7.*->ibm_watson_machine_learning) (2.8.2)\n",
            "Requirement already satisfied: docutils<0.16,>=0.10 in /usr/local/lib/python3.7/dist-packages (from ibm-cos-sdk-core==2.7.0->ibm-cos-sdk==2.7.*->ibm_watson_machine_learning) (0.15.2)\n",
            "Requirement already satisfied: pytz>=2017.3 in /usr/local/lib/python3.7/dist-packages (from pandas<1.5.0,>=0.24.2->ibm_watson_machine_learning) (2022.6)\n",
            "Requirement already satisfied: numpy>=1.17.3 in /usr/local/lib/python3.7/dist-packages (from pandas<1.5.0,>=0.24.2->ibm_watson_machine_learning) (1.21.6)\n",
            "Requirement already satisfied: six>=1.5 in /usr/local/lib/python3.7/dist-packages (from python-dateutil<3.0.0,>=2.1->ibm-cos-sdk-core==2.7.0->ibm-cos-sdk==2.7.*->ibm_watson_machine_learning) (1.15.0)\n",
            "Requirement already satisfied: charset-normalizer<3,>=2 in /usr/local/lib/python3.7/dist-packages (from requests->ibm_watson_machine_learning) (2.1.1)\n",
            "Requirement already satisfied: idna<4,>=2.5 in /usr/local/lib/python3.7/dist-packages (from requests->ibm_watson_machine_learning) (2.10)\n",
            "Requirement already satisfied: typing-extensions>=3.6.4 in /usr/local/lib/python3.7/dist-packages (from importlib-metadata->ibm_watson_machine_learning) (4.1.1)\n",
            "Requirement already satisfied: zipp>=0.5 in /usr/local/lib/python3.7/dist-packages (from importlib-metadata->ibm_watson_machine_learning) (3.10.0)\n",
            "Requirement already satisfied: pyparsing!=3.0.5,>=2.0.2 in /usr/local/lib/python3.7/dist-packages (from packaging->ibm_watson_machine_learning) (3.0.9)\n"
          ]
        }
      ]
    },
    {
      "cell_type": "code",
      "source": [
        "from ibm_watson_machine_learning import APIClient\n",
        "wml_credentials ={\n",
        "    \"url\":\"https://eu-gb.ml.cloud.ibm.com\",\n",
        "    \"apikey\":\"Gvrks_raf7LwmF9CeOi6B-BxvXn07DU-TfX8EaYerHoA\"\n",
        "}\n",
        "client = APIClient(wml_credentials)\n",
        "client"
      ],
      "metadata": {
        "colab": {
          "base_uri": "https://localhost:8080/"
        },
        "id": "N3j5265qB6Vq",
        "outputId": "e20176bf-404e-4234-c4b0-2db1bad63c3a"
      },
      "execution_count": 261,
      "outputs": [
        {
          "output_type": "stream",
          "name": "stdout",
          "text": [
            "Python 3.7 and 3.8 frameworks are deprecated and will be removed in a future release. Use Python 3.9 framework instead.\n"
          ]
        },
        {
          "output_type": "execute_result",
          "data": {
            "text/plain": [
              "<ibm_watson_machine_learning.client.APIClient at 0x7fda51b2d250>"
            ]
          },
          "metadata": {},
          "execution_count": 261
        }
      ]
    },
    {
      "cell_type": "code",
      "source": [
        "client.spaces.get_details()"
      ],
      "metadata": {
        "colab": {
          "base_uri": "https://localhost:8080/"
        },
        "id": "B_RKgJ8TG_ss",
        "outputId": "5a560605-dcf4-404c-df92-39fbb3be5d0f"
      },
      "execution_count": 262,
      "outputs": [
        {
          "output_type": "execute_result",
          "data": {
            "text/plain": [
              "{'resources': [{'entity': {'compute': [{'crn': 'crn:v1:bluemix:public:pm-20:eu-gb:a/92bfabbf22c74d0e8389d5555a1daccd:52fa3ce6-0f8d-4130-b058-fe22ea8cc573::',\n",
              "      'guid': '52fa3ce6-0f8d-4130-b058-fe22ea8cc573',\n",
              "      'name': 'Watson Machine Learning-h0',\n",
              "      'type': 'machine_learning'}],\n",
              "    'description': '',\n",
              "    'name': 'B2_deploy',\n",
              "    'scope': {'bss_account_id': '92bfabbf22c74d0e8389d5555a1daccd'},\n",
              "    'stage': {'production': False},\n",
              "    'status': {'state': 'active'},\n",
              "    'storage': {'properties': {'bucket_name': 'c6c144cb-1fa8-441e-ac7d-1decf9e6b4d8',\n",
              "      'bucket_region': 'eu-gb-standard',\n",
              "      'credentials': {'admin': {'access_key_id': '9ee9e8f2de55464b8efde94f3adc5c0c',\n",
              "        'api_key': '0uJreOznPRv_CcaVQvo2o8xtYMTR25TEbM8FL3kr23kn',\n",
              "        'secret_access_key': 'b4142f4f5857c06a6ee566a1845efa2bcc6d3b86714a035b',\n",
              "        'service_id': 'ServiceId-f995c20e-bd02-4ba2-96cf-3450e3b93c91'},\n",
              "       'editor': {'access_key_id': '213b7a5c1df5434a88f121182bafaed9',\n",
              "        'api_key': 'X817lxqpaWon1Qs6Za_4bNlSwJeDR7jVQy0uNGfrzW8B',\n",
              "        'resource_key_crn': 'crn:v1:bluemix:public:cloud-object-storage:global:a/92bfabbf22c74d0e8389d5555a1daccd:4a84970d-77f1-4a5f-baf8-ae4e1c3a102c::',\n",
              "        'secret_access_key': '4dc0dd9282ad325541e68a7b92cec585ccf8f5fdfd48cf32',\n",
              "        'service_id': 'ServiceId-0352867d-0862-4315-8056-15fff1c42861'},\n",
              "       'viewer': {'access_key_id': 'c36bd826265e4b308beb55c64793257a',\n",
              "        'api_key': 'sFLaWGzmmGWOUwSDaz78qHLjuBR16mUFnnEL_qk4qdMh',\n",
              "        'resource_key_crn': 'crn:v1:bluemix:public:cloud-object-storage:global:a/92bfabbf22c74d0e8389d5555a1daccd:4a84970d-77f1-4a5f-baf8-ae4e1c3a102c::',\n",
              "        'secret_access_key': '11e84d427a70c12428cb323247cb3def6471c98e8329344c',\n",
              "        'service_id': 'ServiceId-893a3e33-a4cc-4352-9f30-ce2a94b0bcc7'}},\n",
              "      'endpoint_url': 'https://s3.eu-gb.cloud-object-storage.appdomain.cloud',\n",
              "      'guid': '4a84970d-77f1-4a5f-baf8-ae4e1c3a102c',\n",
              "      'resource_crn': 'crn:v1:bluemix:public:cloud-object-storage:global:a/92bfabbf22c74d0e8389d5555a1daccd:4a84970d-77f1-4a5f-baf8-ae4e1c3a102c::'},\n",
              "     'type': 'bmcos_object_storage'}},\n",
              "   'metadata': {'created_at': '2022-11-08T08:09:59.145Z',\n",
              "    'creator_id': 'IBMid-662004072Q',\n",
              "    'id': '84f7e08c-555a-480b-aaa5-fa6be840c4fe',\n",
              "    'updated_at': '2022-11-08T08:10:15.774Z',\n",
              "    'url': '/v2/spaces/84f7e08c-555a-480b-aaa5-fa6be840c4fe'}}]}"
            ]
          },
          "metadata": {},
          "execution_count": 262
        }
      ]
    },
    {
      "cell_type": "code",
      "source": [
        "def guid_space_name(client,B2_deploy):\n",
        "  space = client.spaces.get_details()\n",
        "  return(next(item for item in space['resources'] if item['entity']['name']==B2_deploy)['metadata']['id'])"
      ],
      "metadata": {
        "id": "yv8tlVkcHcsc"
      },
      "execution_count": 263,
      "outputs": []
    },
    {
      "cell_type": "code",
      "source": [
        "space_uid = guid_space_name(client,'B2_deploy')\n",
        "space_uid"
      ],
      "metadata": {
        "colab": {
          "base_uri": "https://localhost:8080/",
          "height": 36
        },
        "id": "r0LdWr4vJYNE",
        "outputId": "ac12017b-95cc-4074-d744-80bc4678437c"
      },
      "execution_count": 264,
      "outputs": [
        {
          "output_type": "execute_result",
          "data": {
            "text/plain": [
              "'84f7e08c-555a-480b-aaa5-fa6be840c4fe'"
            ],
            "application/vnd.google.colaboratory.intrinsic+json": {
              "type": "string"
            }
          },
          "metadata": {},
          "execution_count": 264
        }
      ]
    },
    {
      "cell_type": "code",
      "source": [
        "client.set.default_space(space_uid)"
      ],
      "metadata": {
        "colab": {
          "base_uri": "https://localhost:8080/",
          "height": 36
        },
        "id": "BFkVsL3mJ1RA",
        "outputId": "afcfe5a8-b99b-401a-8b14-df97e88712b0"
      },
      "execution_count": 265,
      "outputs": [
        {
          "output_type": "execute_result",
          "data": {
            "text/plain": [
              "'SUCCESS'"
            ],
            "application/vnd.google.colaboratory.intrinsic+json": {
              "type": "string"
            }
          },
          "metadata": {},
          "execution_count": 265
        }
      ]
    },
    {
      "cell_type": "code",
      "source": [
        "client.software_specifications.list()"
      ],
      "metadata": {
        "colab": {
          "base_uri": "https://localhost:8080/"
        },
        "id": "M4hZLG5NKaUQ",
        "outputId": "1d04920e-1ae5-40d4-f571-42d373e7519d"
      },
      "execution_count": 266,
      "outputs": [
        {
          "output_type": "stream",
          "name": "stdout",
          "text": [
            "-----------------------------  ------------------------------------  ----\n",
            "NAME                           ASSET_ID                              TYPE\n",
            "default_py3.6                  0062b8c9-8b7d-44a0-a9b9-46c416adcbd9  base\n",
            "kernel-spark3.2-scala2.12      020d69ce-7ac1-5e68-ac1a-31189867356a  base\n",
            "pytorch-onnx_1.3-py3.7-edt     069ea134-3346-5748-b513-49120e15d288  base\n",
            "scikit-learn_0.20-py3.6        09c5a1d0-9c1e-4473-a344-eb7b665ff687  base\n",
            "spark-mllib_3.0-scala_2.12     09f4cff0-90a7-5899-b9ed-1ef348aebdee  base\n",
            "pytorch-onnx_rt22.1-py3.9      0b848dd4-e681-5599-be41-b5f6fccc6471  base\n",
            "ai-function_0.1-py3.6          0cdb0f1e-5376-4f4d-92dd-da3b69aa9bda  base\n",
            "shiny-r3.6                     0e6e79df-875e-4f24-8ae9-62dcc2148306  base\n",
            "tensorflow_2.4-py3.7-horovod   1092590a-307d-563d-9b62-4eb7d64b3f22  base\n",
            "pytorch_1.1-py3.6              10ac12d6-6b30-4ccd-8392-3e922c096a92  base\n",
            "tensorflow_1.15-py3.6-ddl      111e41b3-de2d-5422-a4d6-bf776828c4b7  base\n",
            "runtime-22.1-py3.9             12b83a17-24d8-5082-900f-0ab31fbfd3cb  base\n",
            "scikit-learn_0.22-py3.6        154010fa-5b3b-4ac1-82af-4d5ee5abbc85  base\n",
            "default_r3.6                   1b70aec3-ab34-4b87-8aa0-a4a3c8296a36  base\n",
            "pytorch-onnx_1.3-py3.6         1bc6029a-cc97-56da-b8e0-39c3880dbbe7  base\n",
            "kernel-spark3.3-r3.6           1c9e5454-f216-59dd-a20e-474a5cdf5988  base\n",
            "pytorch-onnx_rt22.1-py3.9-edt  1d362186-7ad5-5b59-8b6c-9d0880bde37f  base\n",
            "tensorflow_2.1-py3.6           1eb25b84-d6ed-5dde-b6a5-3fbdf1665666  base\n",
            "spark-mllib_3.2                20047f72-0a98-58c7-9ff5-a77b012eb8f5  base\n",
            "tensorflow_2.4-py3.8-horovod   217c16f6-178f-56bf-824a-b19f20564c49  base\n",
            "runtime-22.1-py3.9-cuda        26215f05-08c3-5a41-a1b0-da66306ce658  base\n",
            "do_py3.8                       295addb5-9ef9-547e-9bf4-92ae3563e720  base\n",
            "autoai-ts_3.8-py3.8            2aa0c932-798f-5ae9-abd6-15e0c2402fb5  base\n",
            "tensorflow_1.15-py3.6          2b73a275-7cbf-420b-a912-eae7f436e0bc  base\n",
            "kernel-spark3.3-py3.9          2b7961e2-e3b1-5a8c-a491-482c8368839a  base\n",
            "pytorch_1.2-py3.6              2c8ef57d-2687-4b7d-acce-01f94976dac1  base\n",
            "spark-mllib_2.3                2e51f700-bca0-4b0d-88dc-5c6791338875  base\n",
            "pytorch-onnx_1.1-py3.6-edt     32983cea-3f32-4400-8965-dde874a8d67e  base\n",
            "spark-mllib_3.0-py37           36507ebe-8770-55ba-ab2a-eafe787600e9  base\n",
            "spark-mllib_2.4                390d21f8-e58b-4fac-9c55-d7ceda621326  base\n",
            "xgboost_0.82-py3.6             39e31acd-5f30-41dc-ae44-60233c80306e  base\n",
            "pytorch-onnx_1.2-py3.6-edt     40589d0e-7019-4e28-8daa-fb03b6f4fe12  base\n",
            "default_r36py38                41c247d3-45f8-5a71-b065-8580229facf0  base\n",
            "autoai-ts_rt22.1-py3.9         4269d26e-07ba-5d40-8f66-2d495b0c71f7  base\n",
            "autoai-obm_3.0                 42b92e18-d9ab-567f-988a-4240ba1ed5f7  base\n",
            "pmml-3.0_4.3                   493bcb95-16f1-5bc5-bee8-81b8af80e9c7  base\n",
            "spark-mllib_2.4-r_3.6          49403dff-92e9-4c87-a3d7-a42d0021c095  base\n",
            "xgboost_0.90-py3.6             4ff8d6c2-1343-4c18-85e1-689c965304d3  base\n",
            "pytorch-onnx_1.1-py3.6         50f95b2a-bc16-43bb-bc94-b0bed208c60b  base\n",
            "autoai-ts_3.9-py3.8            52c57136-80fa-572e-8728-a5e7cbb42cde  base\n",
            "spark-mllib_2.4-scala_2.11     55a70f99-7320-4be5-9fb9-9edb5a443af5  base\n",
            "spark-mllib_3.0                5c1b0ca2-4977-5c2e-9439-ffd44ea8ffe9  base\n",
            "autoai-obm_2.0                 5c2e37fa-80b8-5e77-840f-d912469614ee  base\n",
            "spss-modeler_18.1              5c3cad7e-507f-4b2a-a9a3-ab53a21dee8b  base\n",
            "cuda-py3.8                     5d3232bf-c86b-5df4-a2cd-7bb870a1cd4e  base\n",
            "autoai-kb_3.1-py3.7            632d4b22-10aa-5180-88f0-f52dfb6444d7  base\n",
            "pytorch-onnx_1.7-py3.8         634d3cdc-b562-5bf9-a2d4-ea90a478456b  base\n",
            "spark-mllib_2.3-r_3.6          6586b9e3-ccd6-4f92-900f-0f8cb2bd6f0c  base\n",
            "tensorflow_2.4-py3.7           65e171d7-72d1-55d9-8ebb-f813d620c9bb  base\n",
            "spss-modeler_18.2              687eddc9-028a-4117-b9dd-e57b36f1efa5  base\n",
            "-----------------------------  ------------------------------------  ----\n",
            "Note: Only first 50 records were displayed. To display more use 'limit' parameter.\n"
          ]
        }
      ]
    },
    {
      "cell_type": "code",
      "source": [
        "software_space_uid = client.software_specifications.get_uid_by_name('tensorflow_rt22.1-py3.9')\n",
        "software_space_uid"
      ],
      "metadata": {
        "colab": {
          "base_uri": "https://localhost:8080/",
          "height": 36
        },
        "id": "8M8d1XEcKoU5",
        "outputId": "ae7a5548-be3d-4141-aa1e-a6a1f35b9e71"
      },
      "execution_count": 267,
      "outputs": [
        {
          "output_type": "execute_result",
          "data": {
            "text/plain": [
              "'acd9c798-6974-5d2f-a657-ce06e986df4d'"
            ],
            "application/vnd.google.colaboratory.intrinsic+json": {
              "type": "string"
            }
          },
          "metadata": {},
          "execution_count": 267
        }
      ]
    },
    {
      "cell_type": "code",
      "source": [
        "model_details = client.repository.store_model(model='crudeoils.tgz',meta_props={\n",
        "    client.repository.ModelMetaNames.NAME:\"CNN B2 Model\",\n",
        "    client.repository.ModelMetaNames.TYPE:\"tensorflow_2.7\",\n",
        "    client.repository.ModelMetaNames.SOFTWARE_SPEC_UID:software_space_uid\n",
        "})"
      ],
      "metadata": {
        "id": "atB4Dgy1LhMa"
      },
      "execution_count": 268,
      "outputs": []
    },
    {
      "cell_type": "code",
      "source": [
        "model_details"
      ],
      "metadata": {
        "colab": {
          "base_uri": "https://localhost:8080/"
        },
        "id": "-LXYkvplNR1D",
        "outputId": "162cb388-e32b-421b-9181-c3eb0d9d3f50"
      },
      "execution_count": 269,
      "outputs": [
        {
          "output_type": "execute_result",
          "data": {
            "text/plain": [
              "{'entity': {'hybrid_pipeline_software_specs': [],\n",
              "  'software_spec': {'id': 'acd9c798-6974-5d2f-a657-ce06e986df4d',\n",
              "   'name': 'tensorflow_rt22.1-py3.9'},\n",
              "  'type': 'tensorflow_2.7'},\n",
              " 'metadata': {'created_at': '2022-11-10T11:32:11.050Z',\n",
              "  'id': 'c97104e8-67ca-4f0b-8e6b-7c5428a1bf81',\n",
              "  'modified_at': '2022-11-10T11:32:14.746Z',\n",
              "  'name': 'CNN B2 Model',\n",
              "  'owner': 'IBMid-662004072Q',\n",
              "  'resource_key': 'cbd9e1c5-22e4-4ea3-a114-76e3ba5a7b83',\n",
              "  'space_id': '84f7e08c-555a-480b-aaa5-fa6be840c4fe'},\n",
              " 'system': {'warnings': []}}"
            ]
          },
          "metadata": {},
          "execution_count": 269
        }
      ]
    },
    {
      "cell_type": "code",
      "source": [
        "model_id = client.repository.get_model_id(model_details)\n",
        "model_id"
      ],
      "metadata": {
        "colab": {
          "base_uri": "https://localhost:8080/",
          "height": 36
        },
        "id": "3hiP1YIfNWsi",
        "outputId": "513bc768-cd5a-4cbb-8f13-49f52983b433"
      },
      "execution_count": 270,
      "outputs": [
        {
          "output_type": "execute_result",
          "data": {
            "text/plain": [
              "'c97104e8-67ca-4f0b-8e6b-7c5428a1bf81'"
            ],
            "application/vnd.google.colaboratory.intrinsic+json": {
              "type": "string"
            }
          },
          "metadata": {},
          "execution_count": 270
        }
      ]
    }
  ]
}